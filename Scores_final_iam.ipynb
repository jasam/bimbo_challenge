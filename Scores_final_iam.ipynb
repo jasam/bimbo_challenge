{
 "cells": [
  {
   "cell_type": "markdown",
   "metadata": {},
   "source": [
    "## Tabla de contenidos\n",
    "\n",
    "1. [Primer modelo IAM - Rendimiento - 1000 personas](#Primer-modelo-IAM-Rendimiento-1000-personas)\n",
    "2. [Primer modelo IAM - Rendimiento - 7000 personas](#Primer-modelo-IAM-Rendimiento-7000-personas)\n",
    "3. [Primer modelo IAM - ROC](#Primer-modelo-IAM-ROC)\n",
    "4. [Segundo modelo IAM - Rendimiento - 1000 personas](#Segundo-modelo-IAM-Rendimiento-1000-personas)\n",
    "5. [Segundo modelo IAM - Rendimiento - 7000 personas](#Segundo-modelo-IAM-Rendimiento-7000-personas)\n",
    "6. [Segundo modelo IAM - ROC](#Segundo-modelo-IAM-ROC)\n",
    "7. [Tercer modelo IAM - Rendimiento - 1000 personas](#Tercer-modelo-IAM-Rendimiento-1000-personas)\n",
    "8. [Tercer modelo IAM - Rendimiento - 7000 personas](#Tercer-modelo-IAM-Rendimiento-7000-personas)\n",
    "9. [Tercer modelo IAM - ROC](#Tercer-modelo-IAM-ROC)"
   ]
  },
  {
   "cell_type": "markdown",
   "metadata": {},
   "source": [
    "# Acreditación Scores"
   ]
  },
  {
   "cell_type": "code",
   "execution_count": 1,
   "metadata": {
    "collapsed": false
   },
   "outputs": [],
   "source": [
    "# Create spark context\n",
    "# Only on Windows\n",
    "import os\n",
    "import sys\n",
    "\n",
    "spark_path = 'C:\\spark-2.0.1-bin-hadoop2.7'\n",
    "\n",
    "os.environ['SPARK_HOME'] = spark_path\n",
    "\n",
    "sys.path.append(spark_path + \"/bin\")\n",
    "sys.path.append(spark_path + \"/python\")\n",
    "sys.path.append(spark_path + \"/python/pyspark/\")\n",
    "sys.path.append(spark_path + \"/python/lib\")\n",
    "sys.path.append(spark_path + \"/python/lib/pyspark.zip\")\n",
    "sys.path.append(spark_path + \"/python/lib/py4j-0.10.3-src.zip\")\n",
    "\n",
    "from pyspark import SparkContext\n",
    "from pyspark import SparkConf\n",
    "from pyspark.sql import SQLContext\n",
    "\n",
    "sc = SparkContext(\"local\", \"score_acreditation\")\n",
    "sqlContext = SQLContext(sc)"
   ]
  },
  {
   "cell_type": "code",
   "execution_count": 1,
   "metadata": {
    "collapsed": true
   },
   "outputs": [],
   "source": [
    "# General config\n",
    "separator = '\\t'"
   ]
  },
  {
   "cell_type": "code",
   "execution_count": 2,
   "metadata": {
    "collapsed": false
   },
   "outputs": [],
   "source": [
    "# with full file\n",
    "from pyspark.sql.types import *\n",
    "\n",
    "schema = StructType([\n",
    "    # Riesgo cardio vascular    \n",
    "    StructField(\"id_afiliado\", IntegerType(), False),\n",
    "    StructField(\"period\", DateType(), True),    \n",
    "    StructField(\"predict_pred_aaat_rcv\", StringType(), True),\n",
    "    StructField(\"x0_c_pred_aaat_rcv\", DoubleType(), True),\n",
    "    StructField(\"x1_c_pred_aaat_rcv\", DoubleType(), True),\n",
    "    StructField(\"th_pred_pred_aaat_rcv\", StringType(), True),\n",
    "    StructField(\"th_deafault_pred_pred_aaat_rcv\", StringType(), True),         \n",
    "    \n",
    "    # Infarto agudo del miocardio    \n",
    "    StructField(\"predict_pred_aaat_iam\", StringType(), True),\n",
    "    StructField(\"x0_c_pred_aaat_iam\", DoubleType(), True),\n",
    "    StructField(\"x1_c_pred_aaat_iam\", DoubleType(), True),    \n",
    "    StructField(\"th_pred_pred_aaat_iam\", DoubleType(), True),\n",
    "    StructField(\"th_deafault_pred_pred_aaat_iam\", DoubleType(), True),                \n",
    "    \n",
    "    # Enfermedad Renal estadio 5    \n",
    "    StructField(\"predict_pred_aaat_er5\", StringType(), True),\n",
    "    StructField(\"x0_c_pred_aaat_er5\", DoubleType(), True),\n",
    "    StructField(\"x1_c_pred_aaat_er5\", DoubleType(), True),   \n",
    "    StructField(\"th_pred_pred_aaat_er5\", DoubleType(), True),\n",
    "    StructField(\"th_deafault_pred_pred_aaat_er5\", DoubleType(), True),       \n",
    "        \n",
    "    # Muerte    \n",
    "    StructField(\"predict_pred_aaat_mue\", StringType(), True),\n",
    "    StructField(\"x0_c_pred_aaat_mue\", DoubleType(), True),\n",
    "    StructField(\"x1_c_pred_aaat_mue\", DoubleType(), True),    \n",
    "    StructField(\"th_pred_pred_aaat_mue\", DoubleType(), True),\n",
    "    StructField(\"th_deafault_pred_pred_aaat_mue\", StringType(), True),    \n",
    "        \n",
    "    StructField(\"fecha_pred_generacion_scores\", DateType(), True)    \n",
    "])"
   ]
  },
  {
   "cell_type": "code",
   "execution_count": 3,
   "metadata": {
    "collapsed": true
   },
   "outputs": [],
   "source": [
    "from pyspark.sql.types import *\n",
    "\n",
    "schema = StructType([\n",
    "    # Infarto agudo del miocardio  \n",
    "    StructField(\"id_afiliado\", IntegerType(), False),\n",
    "    StructField(\"period\", DateType(), True),        \n",
    "    \n",
    "    # Infarto agudo del miocardio    \n",
    "    StructField(\"predict_pred_aaat_iam\", StringType(), True),\n",
    "    StructField(\"x0_c_pred_aaat_iam\", DoubleType(), True),\n",
    "    StructField(\"x1_c_pred_aaat_iam\", DoubleType(), True),    \n",
    "    StructField(\"th_pred_pred_aaat_iam\", DoubleType(), True),\n",
    "    StructField(\"th_deafault_pred_pred_aaat_iam\", DoubleType(), True),                 \n",
    "        \n",
    "    StructField(\"fecha_pred_generacion_scores\", DateType(), True)    \n",
    "])"
   ]
  },
  {
   "cell_type": "code",
   "execution_count": 4,
   "metadata": {
    "collapsed": true
   },
   "outputs": [],
   "source": [
    "# Schema complications\n",
    "schema_complications = StructType([  \n",
    "    StructField(\"id_afiliado\", IntegerType(), False),\n",
    "    StructField(\"fecha_complicacion\", StringType(), True),    \n",
    "    StructField(\"tipo_complicacion\", StringType(), True),\n",
    "    StructField(\"complicacion\", StringType(), True)    \n",
    "])"
   ]
  },
  {
   "cell_type": "code",
   "execution_count": 5,
   "metadata": {
    "collapsed": true
   },
   "outputs": [],
   "source": [
    "# Read file convert into dataframe\n",
    "def read_file_df(file_name, schema):\n",
    "    df = (sqlContext.read.format('com.databricks.spark.csv')\n",
    "                    .options(header='true', delimiter=separator)\n",
    "                    .load(file_name, schema = schema))\n",
    "    return df"
   ]
  },
  {
   "cell_type": "code",
   "execution_count": 6,
   "metadata": {
    "collapsed": true
   },
   "outputs": [],
   "source": [
    "# Parse date to date format\n",
    "from pyspark.sql.functions import udf\n",
    "from datetime import datetime\n",
    "\n",
    "parser_to_date =  udf (lambda x: datetime.strptime(x, '%d/%m/%Y'), DateType())"
   ]
  },
  {
   "cell_type": "code",
   "execution_count": 7,
   "metadata": {
    "collapsed": false
   },
   "outputs": [
    {
     "data": {
      "text/plain": [
       "342515"
      ]
     },
     "execution_count": 7,
     "metadata": {},
     "output_type": "execute_result"
    }
   ],
   "source": [
    "# Read complications - section: Octuber 02th 2016\n",
    "# On linux\n",
    "path = '/home/jasam/motor/sura_acreditacion_scores/fuente_externa_csv/TRA_T_Complicaciones_2016_10_02.csv'\n",
    "# On windows\n",
    "#path = 'C:/Users/Javier/Documents/motor/sura_acreditacion_scores/fuente_externa_csv/TRA_T_Complicaciones_2016_10_02.csv'\n",
    "df_complications = read_file_df(path, schema_complications)\n",
    "df_complications = df_complications.withColumn('fecha_complicacion', parser_to_date(df_complications['fecha_complicacion']))\n",
    "df_complications.cache()\n",
    "df_complications.count()"
   ]
  },
  {
   "cell_type": "code",
   "execution_count": 8,
   "metadata": {
    "collapsed": true
   },
   "outputs": [],
   "source": [
    "udf_get_label =  udf(lambda x: '1_C' if x != None else '0_C', StringType())"
   ]
  },
  {
   "cell_type": "code",
   "execution_count": 9,
   "metadata": {
    "collapsed": false
   },
   "outputs": [
    {
     "name": "stdout",
     "output_type": "stream",
     "text": [
      "+-----------+------------------+-----------------+------------+\n",
      "|id_afiliado|fecha_complicacion|tipo_complicacion|complicacion|\n",
      "+-----------+------------------+-----------------+------------+\n",
      "|    1647197|        2015-05-31|  Desenlace final|         IAM|\n",
      "+-----------+------------------+-----------------+------------+\n",
      "only showing top 1 row\n",
      "\n"
     ]
    }
   ],
   "source": [
    "# Unit test\n",
    "from pyspark.sql.functions import col, desc\n",
    "(df_complications.filter(col('id_afiliado') == 1647197)\n",
    "                 .filter(col('complicacion') == 'IAM')\n",
    "                 .orderBy(desc('fecha_complicacion'))\n",
    "                 .show(1))"
   ]
  },
  {
   "cell_type": "code",
   "execution_count": 10,
   "metadata": {
    "collapsed": true
   },
   "outputs": [],
   "source": [
    "udf_binarize_label =  udf(lambda x: 1 if x == '1_C' else 0, IntegerType())"
   ]
  },
  {
   "cell_type": "code",
   "execution_count": 11,
   "metadata": {
    "collapsed": false
   },
   "outputs": [],
   "source": [
    "def generate_analysis(columns, limit, number_months_to_analyze, \n",
    "                      columns_merge, debug, order_desc, complicacion, tipo_complicacion, image_path, image_file_name,\n",
    "                      plot_title):\n",
    "    import pandas as pd\n",
    "    import datetime\n",
    "    from dateutil.relativedelta import relativedelta\n",
    "    from pyspark.sql.functions import col, desc\n",
    "    import plotly.plotly as py\n",
    "    import plotly.graph_objs as go\n",
    "    py.plotly.tools.set_credentials_file(username='jreyro', api_key='vizy9pl3ds')\n",
    "    \n",
    "    months = pd.date_range(start=pd.datetime(2015, 1, 1),periods=number_months_to_analyze,freq='M')\n",
    "    \n",
    "    if (debug == 'Y'):\n",
    "        print(months)\n",
    "    \n",
    "    df_final_scores_pandas = pd.DataFrame(columns=['date', '0_c', '1_c'])\n",
    "    \n",
    "    # Iterate number of months\n",
    "    for month in months:\n",
    "    \n",
    "        month_parsed = month.strftime('%Y-%m-%d')\n",
    "        final_date = month.date() + relativedelta(months=13)\n",
    "        print('month_parsed: ',month_parsed)\n",
    "        print('final_date: ',final_date)\n",
    "        df_iam = (df.select(columns)\n",
    "                    .filter(col('period') == month_parsed)\n",
    "                    .orderBy(desc(order_desc))\n",
    "                    .limit(limit)\n",
    "                 )\n",
    "        \n",
    "        # Testing purposes\n",
    "        if (debug == 'Y'):\n",
    "            df_iam.show(5)\n",
    "        \n",
    "        # create complications aggregate\n",
    "        df_complications_aggr = (df_complications\n",
    "                                 .filter(col('tipo_complicacion') == tipo_complicacion)\n",
    "                                 .filter(col('complicacion') == complicacion)\n",
    "                                 .filter(col('fecha_complicacion') > month_parsed)\n",
    "                                 .filter(col('fecha_complicacion') < final_date)\n",
    "                                 .groupBy('id_afiliado')\n",
    "                                 .count())\n",
    "        if (debug == 'Y'):\n",
    "            df_complications_aggr.show(5)\n",
    "        \n",
    "        # Merge with complications\n",
    "        cond = [df_iam.id_afiliado == df_complications_aggr.id_afiliado]\n",
    "        merge_predict_label = (df_iam.join(df_complications_aggr, cond, 'left')\n",
    "                               .drop(df_complications_aggr.id_afiliado))\n",
    "        if (debug == 'Y'):\n",
    "            merge_predict_label.select(columns_merge).show(5)\n",
    "    \n",
    "        # Add label column\n",
    "        merge_predict_label = merge_predict_label.withColumn('label', udf_get_label('count'))\n",
    "        if (debug == 'Y'):\n",
    "            merge_predict_label.show(5)\n",
    "            \n",
    "        # Transform to pandas\n",
    "        predict_label_pandas = merge_predict_label.groupBy('label').count().toPandas()\n",
    "        if (debug == 'Y'):\n",
    "            print(predict_label_pandas)    \n",
    "            \n",
    "        # Aggregate to final dataset\n",
    "        zero_datum = predict_label_pandas[predict_label_pandas['label'] == '0_C']['count'][0]\n",
    "        one_datum = predict_label_pandas[predict_label_pandas['label'] == '1_C']['count'][1]\n",
    "        row = [month_parsed, zero_datum, one_datum]\n",
    "        if (debug == 'Y'):\n",
    "            print(row)\n",
    "        df_final_scores_pandas.loc[len(df_final_scores_pandas)] = row\n",
    "        if (debug == 'Y'):\n",
    "            print(df_final_scores_pandas)   \n",
    "        \n",
    "        # Bar plot performance prediction\n",
    "        fig = get_plot_performance_prediction(df_final_scores_pandas, limit, plot_title)\n",
    "        if (debug == 'Y'):\n",
    "            print(fig)\n",
    "    \n",
    "        # Binarize target\n",
    "        merge_predict_label = merge_predict_label.withColumn('label_b', udf_binarize_label('label'))\n",
    "        merge_predict_label = merge_predict_label.withColumn('prediction_b', udf_binarize_label('predict_pred_aaat_iam'))\n",
    "        results = merge_predict_label.select('prediction_b', 'label_b')\n",
    "        results_pandas = results.toPandas()\n",
    "        if (debug == 'Y'):\n",
    "            print(results_pandas)\n",
    "        return fig, results_pandas"
   ]
  },
  {
   "cell_type": "code",
   "execution_count": 36,
   "metadata": {
    "collapsed": true
   },
   "outputs": [],
   "source": [
    "def get_plot_performance_prediction(df_final_scores_pandas, limit, plot_title):\n",
    "    \n",
    "    #import plotly.plotly as py\n",
    "    #import plotly.graph_objs as go\n",
    "    #py.plotly.tools.set_credentials_file(username='jreyro', api_key='vizy9pl3ds')\n",
    "    \n",
    "    from plotly import __version__\n",
    "    from plotly.offline import download_plotlyjs, init_notebook_mode, plot, iplot\n",
    "\n",
    "    \n",
    "    print('Getting plot')\n",
    "    trace1 = go.Bar(x=list(df_final_scores_pandas['date']),\n",
    "                    y=list(df_final_scores_pandas['0_c']),\n",
    "                    name='0_C'\n",
    "                   )\n",
    "\n",
    "    trace2 = go.Bar(x=list(df_final_scores_pandas['date']),\n",
    "                    y=list(df_final_scores_pandas['1_c']),\n",
    "                    name='1_C'\n",
    "                   )\n",
    "\n",
    "    data = [trace1, trace2]\n",
    "    \n",
    "    # Anotations with percentaje\n",
    "    dates = list(df_final_scores_pandas['date'])\n",
    "    positives = list(df_final_scores_pandas['1_c'])\n",
    "    new_positive = [int((x / limit) * 100) for x in positives]\n",
    "    \n",
    "    annotations=[dict(x=xi,y=yi,\n",
    "                 text=str(yi) + '%',\n",
    "                 xanchor='center',\n",
    "                 yanchor='bottom',\n",
    "                 showarrow=False,\n",
    "                ) for xi, yi in zip(dates, new_positive)] \n",
    "\n",
    "    layout = go.Layout(annotations = annotations,\n",
    "                       barmode='stack',\n",
    "                       title=plot_title\n",
    "                      )\n",
    "    \n",
    "    fig = go.Figure(data=data, layout=layout)\n",
    "    return fig"
   ]
  },
  {
   "cell_type": "code",
   "execution_count": 29,
   "metadata": {
    "collapsed": true
   },
   "outputs": [],
   "source": [
    "def get_plot_roc(false_positive_rate, true_positive_rate):\n",
    "    from plotly import __version__\n",
    "    from plotly.offline import download_plotlyjs, init_notebook_mode, plot, iplot\n",
    "    \n",
    "    #import plotly.plotly as py\n",
    "    #import plotly.graph_objs as go\n",
    "\n",
    "    x = false_positive_rate\n",
    "    y = true_positive_rate\n",
    "\n",
    "    # Create a trace\n",
    "    trace = go.Scatter(\n",
    "               x=x,\n",
    "               y=y\n",
    "            )\n",
    "\n",
    "    data = [trace]\n",
    "\n",
    "    layout = go.Layout(\n",
    "                title='Receiver Operating Characteristic',\n",
    "                xaxis=dict(\n",
    "                           title='True Positive Rate'\n",
    "                          ),\n",
    "                yaxis=dict(\n",
    "                           title='False Positive Rate'\n",
    "                          ),\n",
    "                annotations=[\n",
    "                             dict(\n",
    "                                  x=0.9,\n",
    "                                  y=0.2,\n",
    "                                  xref='x',\n",
    "                                  yref='y',\n",
    "                                  text='Roc curve (area = %0.2f)' % roc_auc,\n",
    "                                  showarrow=False\n",
    "                                 )\n",
    "                            ],\n",
    "                shapes=[\n",
    "                        dict(\n",
    "                             type='line',\n",
    "                             x0=0,\n",
    "                             y0=0,\n",
    "                             x1=1,\n",
    "                             y1=1,\n",
    "                             line=dict(\n",
    "                                       color='rgb(255,140,0)',\n",
    "                                       dash='dot'\n",
    "                                      )\n",
    "                            )\n",
    "                       ]\n",
    "             )\n",
    "\n",
    "    fig = go.Figure(data=data, layout=layout)\n",
    "    return fig"
   ]
  },
  {
   "cell_type": "code",
   "execution_count": 30,
   "metadata": {
    "collapsed": false
   },
   "outputs": [
    {
     "name": "stdout",
     "output_type": "stream",
     "text": [
      "File:  /home/jasam/motor/sura_acreditacion_scores/fuente_externa_csv/predicciones01Nov16_1037_iam_1.csv\n",
      "Rows:  70797\n",
      "month_parsed:  2015-01-31\n",
      "final_date:  2016-02-29\n",
      "Getting plot\n",
      "--- Seconds lapsed: 1.563199758529663 ---\n"
     ]
    }
   ],
   "source": [
    "import time\n",
    "py.plotly.tools.set_credentials_file(username='jreyro', api_key='vizy9pl3ds')  \n",
    "from sklearn.metrics import roc_curve, auc\n",
    "import matplotlib.pyplot as plt\n",
    "import matplotlib.cm as cm\n",
    "\n",
    "# On Linux\n",
    "file = '/home/jasam/motor/sura_acreditacion_scores/fuente_externa_csv/predicciones01Nov16_1037_iam_1.csv'\n",
    "\n",
    "# On Windows\n",
    "#file = 'C:/Users/Javier/Documents/motor/sura_acreditacion_scores/fuente_externa_csv/predicciones01Nov16_1037_iam_1.csv'\n",
    "\n",
    "# Columns to project in select clause - IAM\n",
    "columns = ['id_afiliado', 'period', 'predict_pred_aaat_iam', 'x0_c_pred_aaat_iam', 'x1_c_pred_aaat_iam']\n",
    "# Columns for merge\n",
    "columns_merge = ['id_afiliado', 'period', 'predict_pred_aaat_iam', 'x0_c_pred_aaat_iam', 'x1_c_pred_aaat_iam','count']\n",
    "order_desc = 'x1_c_pred_aaat_iam'\n",
    "complicacion = 'IAM'\n",
    "tipo_complicacion = 'Desenlace final'\n",
    "limit = 1000\n",
    "number_months_to_analyze = 1\n",
    "image_path = '/home/jasam/motor/sura_acreditacion_scores/images/'\n",
    "index = 1    \n",
    "  \n",
    "start_time = time.time()\n",
    "print('File: ', file)\n",
    "#Read file\n",
    "df = read_file_df(file, schema)\n",
    "df.cache()\n",
    "print('Rows: ', df.count())\n",
    "    \n",
    "# Do data analysis!\n",
    "image_file_name = 'IAM_bar_plot_' + str(index) + '.png'\n",
    "plot_title = 'Efectividad scores IAM - 1000 personas'\n",
    "fig, results_pandas = generate_analysis(columns, limit, \n",
    "                  number_months_to_analyze, columns_merge, \n",
    "                  'N', order_desc, complicacion, tipo_complicacion, image_path, \n",
    "                  image_file_name, plot_title)\n",
    "# Roc curve\n",
    "actual = results_pandas['label_b'].values\n",
    "predictions = results_pandas['prediction_b'].values\n",
    "false_positive_rate, true_positive_rate, thresholds = roc_curve(actual, predictions)\n",
    "roc_auc = auc(false_positive_rate, true_positive_rate)\n",
    "\n",
    "print(\"--- Seconds lapsed: %s ---\" % (time.time() - start_time))"
   ]
  },
  {
   "cell_type": "markdown",
   "metadata": {},
   "source": [
    "## Primer modelo IAM Rendimiento 1000 personas"
   ]
  },
  {
   "cell_type": "markdown",
   "metadata": {},
   "source": [
    "[[ ir al indice ]](#Tabla-de-contenidos)"
   ]
  },
  {
   "cell_type": "code",
   "execution_count": 33,
   "metadata": {
    "collapsed": false,
    "scrolled": true
   },
   "outputs": [
    {
     "data": {
      "text/html": [
       "<script>requirejs.config({paths: { 'plotly': ['https://cdn.plot.ly/plotly-latest.min']},});if(!window.Plotly) {{require(['plotly'],function(plotly) {window.Plotly=plotly;});}}</script>"
      ],
      "text/plain": [
       "<IPython.core.display.HTML object>"
      ]
     },
     "metadata": {},
     "output_type": "display_data"
    },
    {
     "data": {
      "text/html": [
       "<div id=\"3cd33a62-1453-4211-b2f5-9ea7f6726dc6\" style=\"height: 525px; width: 100%;\" class=\"plotly-graph-div\"></div><script type=\"text/javascript\">require([\"plotly\"], function(Plotly) { window.PLOTLYENV=window.PLOTLYENV || {};window.PLOTLYENV.BASE_URL=\"https://plot.ly\";Plotly.newPlot(\"3cd33a62-1453-4211-b2f5-9ea7f6726dc6\", [{\"y\": [801.0], \"type\": \"bar\", \"name\": \"0_C\", \"x\": [\"2015-01-31\"]}, {\"y\": [199.0], \"type\": \"bar\", \"name\": \"1_C\", \"x\": [\"2015-01-31\"]}], {\"title\": \"Efectividad scores IAM - 1000 personas\", \"barmode\": \"stack\", \"annotations\": [{\"xanchor\": \"center\", \"showarrow\": false, \"yanchor\": \"bottom\", \"y\": 19, \"text\": \"19%\", \"x\": \"2015-01-31\"}]}, {\"linkText\": \"Export to plot.ly\", \"showLink\": true})});</script>"
      ],
      "text/plain": [
       "<IPython.core.display.HTML object>"
      ]
     },
     "metadata": {},
     "output_type": "display_data"
    }
   ],
   "source": [
    "from plotly import __version__\n",
    "from plotly.offline import download_plotlyjs, init_notebook_mode, plot, iplot\n",
    "init_notebook_mode(connected=True)\n",
    "iplot(fig, filename='stacked-bar')"
   ]
  },
  {
   "cell_type": "code",
   "execution_count": 34,
   "metadata": {
    "collapsed": false
   },
   "outputs": [
    {
     "name": "stdout",
     "output_type": "stream",
     "text": [
      "File:  /home/jasam/motor/sura_acreditacion_scores/fuente_externa_csv/predicciones01Nov16_1037_iam_1.csv\n",
      "Rows:  70797\n",
      "month_parsed:  2015-01-31\n",
      "final_date:  2016-02-29\n",
      "Getting plot\n",
      "--- Seconds lapsed: 1.650287389755249 ---\n"
     ]
    }
   ],
   "source": [
    "import time\n",
    "import plotly.plotly as py\n",
    "import plotly.graph_objs as go\n",
    "py.plotly.tools.set_credentials_file(username='jreyro', api_key='vizy9pl3ds')  \n",
    "from sklearn.metrics import roc_curve, auc\n",
    "\n",
    "# On Linux\n",
    "file = '/home/jasam/motor/sura_acreditacion_scores/fuente_externa_csv/predicciones01Nov16_1037_iam_1.csv'\n",
    "\n",
    "# On Windows\n",
    "#file = 'C:/Users/Javier/Documents/motor/sura_acreditacion_scores/fuente_externa_csv/predicciones01Nov16_1037_iam_1.csv'\n",
    "\n",
    "# Columns to project in select clause - IAM\n",
    "columns = ['id_afiliado', 'period', 'predict_pred_aaat_iam', 'x0_c_pred_aaat_iam', 'x1_c_pred_aaat_iam']\n",
    "# Columns for merge\n",
    "columns_merge = ['id_afiliado', 'period', 'predict_pred_aaat_iam', 'x0_c_pred_aaat_iam', 'x1_c_pred_aaat_iam','count']\n",
    "order_desc = 'x1_c_pred_aaat_iam'\n",
    "complicacion = 'IAM'\n",
    "tipo_complicacion = 'Desenlace final'\n",
    "limit = 7000\n",
    "number_months_to_analyze = 1\n",
    "image_path = '/home/jasam/motor/sura_acreditacion_scores/images/'\n",
    "index = 1    \n",
    "  \n",
    "start_time = time.time()\n",
    "print('File: ', file)\n",
    "#Read file\n",
    "df = read_file_df(file, schema)\n",
    "df.cache()\n",
    "print('Rows: ', df.count())\n",
    "    \n",
    "# Do data analysis!\n",
    "image_file_name = 'IAM_bar_plot_' + str(index) + '.png'\n",
    "plot_title = 'Efectividad scores IAM - 7000 personas'\n",
    "fig, results_pandas = generate_analysis(columns, limit, \n",
    "                  number_months_to_analyze, columns_merge, \n",
    "                  'N', order_desc, complicacion, tipo_complicacion, image_path, \n",
    "                  image_file_name, plot_title)\n",
    "# Roc curve\n",
    "actual = results_pandas['label_b'].values\n",
    "predictions = results_pandas['prediction_b'].values\n",
    "false_positive_rate, true_positive_rate, thresholds = roc_curve(actual, predictions)\n",
    "roc_auc = auc(false_positive_rate, true_positive_rate)\n",
    "\n",
    "print(\"--- Seconds lapsed: %s ---\" % (time.time() - start_time))"
   ]
  },
  {
   "cell_type": "markdown",
   "metadata": {},
   "source": [
    "## Primer modelo IAM Rendimiento 7000 personas"
   ]
  },
  {
   "cell_type": "markdown",
   "metadata": {},
   "source": [
    "[[ ir al indice ]](#Tabla-de-contenidos)"
   ]
  },
  {
   "cell_type": "code",
   "execution_count": 35,
   "metadata": {
    "collapsed": false
   },
   "outputs": [
    {
     "data": {
      "text/html": [
       "<div id=\"0c92f8fa-aee9-45c9-85cf-2ba635aea969\" style=\"height: 525px; width: 100%;\" class=\"plotly-graph-div\"></div><script type=\"text/javascript\">require([\"plotly\"], function(Plotly) { window.PLOTLYENV=window.PLOTLYENV || {};window.PLOTLYENV.BASE_URL=\"https://plot.ly\";Plotly.newPlot(\"0c92f8fa-aee9-45c9-85cf-2ba635aea969\", [{\"y\": [6337.0], \"type\": \"bar\", \"name\": \"0_C\", \"x\": [\"2015-01-31\"]}, {\"y\": [663.0], \"type\": \"bar\", \"name\": \"1_C\", \"x\": [\"2015-01-31\"]}], {\"title\": \"Efectividad scores IAM - 7000 personas\", \"barmode\": \"stack\", \"annotations\": [{\"xanchor\": \"center\", \"showarrow\": false, \"yanchor\": \"bottom\", \"y\": 9, \"text\": \"9%\", \"x\": \"2015-01-31\"}]}, {\"linkText\": \"Export to plot.ly\", \"showLink\": true})});</script>"
      ],
      "text/plain": [
       "<IPython.core.display.HTML object>"
      ]
     },
     "metadata": {},
     "output_type": "display_data"
    }
   ],
   "source": [
    "iplot(fig, filename='stacked-bar')"
   ]
  },
  {
   "cell_type": "code",
   "execution_count": 37,
   "metadata": {
    "collapsed": false
   },
   "outputs": [
    {
     "name": "stdout",
     "output_type": "stream",
     "text": [
      "File:  /home/jasam/motor/sura_acreditacion_scores/fuente_externa_csv/predicciones01Nov16_1037_iam_1.csv\n",
      "Rows:  70797\n",
      "month_parsed:  2015-01-31\n",
      "final_date:  2016-02-29\n",
      "Getting plot\n",
      "--- Seconds lapsed: 2.432133913040161 ---\n"
     ]
    }
   ],
   "source": [
    "import time\n",
    "import plotly.plotly as py\n",
    "import plotly.graph_objs as go\n",
    "py.plotly.tools.set_credentials_file(username='jreyro', api_key='vizy9pl3ds')  \n",
    "from sklearn.metrics import roc_curve, auc\n",
    "import matplotlib.pyplot as plt\n",
    "import matplotlib.cm as cm\n",
    "\n",
    "# On Linux\n",
    "file = '/home/jasam/motor/sura_acreditacion_scores/fuente_externa_csv/predicciones01Nov16_1037_iam_1.csv'\n",
    "\n",
    "# On Windows\n",
    "#file = 'C:/Users/Javier/Documents/motor/sura_acreditacion_scores/fuente_externa_csv/predicciones01Nov16_1037_iam_1.csv'\n",
    "\n",
    "# Columns to project in select clause - IAM\n",
    "columns = ['id_afiliado', 'period', 'predict_pred_aaat_iam', 'x0_c_pred_aaat_iam', 'x1_c_pred_aaat_iam']\n",
    "# Columns for merge\n",
    "columns_merge = ['id_afiliado', 'period', 'predict_pred_aaat_iam', 'x0_c_pred_aaat_iam', 'x1_c_pred_aaat_iam','count']\n",
    "order_desc = 'x1_c_pred_aaat_iam'\n",
    "complicacion = 'IAM'\n",
    "tipo_complicacion = 'Desenlace final'\n",
    "limit = 100000\n",
    "number_months_to_analyze = 1\n",
    "image_path = '/home/jasam/motor/sura_acreditacion_scores/images/'\n",
    "index = 1    \n",
    "  \n",
    "start_time = time.time()\n",
    "print('File: ', file)\n",
    "#Read file\n",
    "df = read_file_df(file, schema)\n",
    "df.cache()\n",
    "print('Rows: ', df.count())\n",
    "    \n",
    "# Do data analysis!\n",
    "image_file_name = 'IAM_bar_plot_' + str(index) + '.png'\n",
    "plot_title = 'Efectividad scores IAM - 7000 personas'\n",
    "fig, results_pandas = generate_analysis(columns, limit, \n",
    "                  number_months_to_analyze, columns_merge, \n",
    "                  'N', order_desc, complicacion, tipo_complicacion, image_path, \n",
    "                  image_file_name, plot_title)\n",
    "# Roc curve\n",
    "actual = results_pandas['label_b'].values\n",
    "predictions = results_pandas['prediction_b'].values\n",
    "false_positive_rate, true_positive_rate, thresholds = roc_curve(actual, predictions)\n",
    "roc_auc = auc(false_positive_rate, true_positive_rate)\n",
    "\n",
    "print(\"--- Seconds lapsed: %s ---\" % (time.time() - start_time))"
   ]
  },
  {
   "cell_type": "markdown",
   "metadata": {},
   "source": [
    "## Primer modelo IAM ROC"
   ]
  },
  {
   "cell_type": "markdown",
   "metadata": {},
   "source": [
    "[[ ir al indice ]](#Tabla-de-contenidos)"
   ]
  },
  {
   "cell_type": "code",
   "execution_count": 38,
   "metadata": {
    "collapsed": false
   },
   "outputs": [
    {
     "data": {
      "text/html": [
       "<div id=\"728e342b-3e5e-48c4-884d-fb24dbe9868c\" style=\"height: 525px; width: 100%;\" class=\"plotly-graph-div\"></div><script type=\"text/javascript\">require([\"plotly\"], function(Plotly) { window.PLOTLYENV=window.PLOTLYENV || {};window.PLOTLYENV.BASE_URL=\"https://plot.ly\";Plotly.newPlot(\"728e342b-3e5e-48c4-884d-fb24dbe9868c\", [{\"y\": [0.0, 0.4696868754163891, 1.0], \"type\": \"scatter\", \"x\": [0.0, 0.10328157469406604, 1.0]}], {\"title\": \"Receiver Operating Characteristic\", \"xaxis\": {\"title\": \"True Positive Rate\"}, \"annotations\": [{\"yref\": \"y\", \"showarrow\": false, \"x\": 0.9, \"y\": 0.2, \"text\": \"Roc curve (area = 0.68)\", \"xref\": \"x\"}], \"shapes\": [{\"y0\": 0, \"y1\": 1, \"x1\": 1, \"type\": \"line\", \"line\": {\"color\": \"rgb(255,140,0)\", \"dash\": \"dot\"}, \"x0\": 0}], \"yaxis\": {\"title\": \"False Positive Rate\"}}, {\"linkText\": \"Export to plot.ly\", \"showLink\": true})});</script>"
      ],
      "text/plain": [
       "<IPython.core.display.HTML object>"
      ]
     },
     "metadata": {},
     "output_type": "display_data"
    }
   ],
   "source": [
    "fig = get_plot_roc(false_positive_rate, true_positive_rate)\n",
    "iplot(fig, filename='basic_line')"
   ]
  },
  {
   "cell_type": "code",
   "execution_count": 40,
   "metadata": {
    "collapsed": false
   },
   "outputs": [
    {
     "name": "stdout",
     "output_type": "stream",
     "text": [
      "File:  /home/jasam/motor/sura_acreditacion_scores/fuente_externa_csv/predicciones01Nov16_1344_iam_2.csv\n",
      "Rows:  70797\n",
      "month_parsed:  2015-01-31\n",
      "final_date:  2016-02-29\n",
      "Getting plot\n",
      "--- Seconds lapsed: 1.3593688011169434 ---\n"
     ]
    }
   ],
   "source": [
    "import time\n",
    "import plotly.plotly as py\n",
    "import plotly.graph_objs as go\n",
    "from sklearn.metrics import roc_curve, auc\n",
    "\n",
    "# On Linux\n",
    "file = '/home/jasam/motor/sura_acreditacion_scores/fuente_externa_csv/predicciones01Nov16_1344_iam_2.csv'\n",
    "\n",
    "# On Windows\n",
    "#file = 'C:/Users/Javier/Documents/motor/sura_acreditacion_scores/fuente_externa_csv/predicciones01Nov16_1344_iam_2.csv'\n",
    "\n",
    "\n",
    "# Columns to project in select clause - IAM\n",
    "columns = ['id_afiliado', 'period', 'predict_pred_aaat_iam', 'x0_c_pred_aaat_iam', 'x1_c_pred_aaat_iam']\n",
    "# Columns for merge\n",
    "columns_merge = ['id_afiliado', 'period', 'predict_pred_aaat_iam', 'x0_c_pred_aaat_iam', 'x1_c_pred_aaat_iam','count']\n",
    "order_desc = 'x1_c_pred_aaat_iam'\n",
    "complicacion = 'IAM'\n",
    "tipo_complicacion = 'Desenlace final'\n",
    "limit = 1000\n",
    "number_months_to_analyze = 1\n",
    "image_path = '/home/jasam/motor/sura_acreditacion_scores/images/'\n",
    "index = 1    \n",
    "  \n",
    "start_time = time.time()\n",
    "print('File: ', file)\n",
    "#Read file\n",
    "df = read_file_df(file, schema)\n",
    "df.cache()\n",
    "print('Rows: ', df.count())\n",
    "    \n",
    "# Do data analysis!\n",
    "image_file_name = 'IAM_bar_plot_' + str(index) + '.png'\n",
    "plot_title = 'Efectividad scores IAM - 1000 personas'\n",
    "fig, results_pandas = generate_analysis(columns, limit, \n",
    "                  number_months_to_analyze, columns_merge, \n",
    "                  'N', order_desc, complicacion, tipo_complicacion, image_path, \n",
    "                  image_file_name, plot_title)\n",
    "# Roc curve\n",
    "actual = results_pandas['label_b'].values\n",
    "predictions = results_pandas['prediction_b'].values\n",
    "false_positive_rate, true_positive_rate, thresholds = roc_curve(actual, predictions)\n",
    "roc_auc = auc(false_positive_rate, true_positive_rate)\n",
    "\n",
    "print(\"--- Seconds lapsed: %s ---\" % (time.time() - start_time))"
   ]
  },
  {
   "cell_type": "markdown",
   "metadata": {},
   "source": [
    "## Segundo modelo IAM Rendimiento 1000 personas"
   ]
  },
  {
   "cell_type": "markdown",
   "metadata": {},
   "source": [
    "[[ ir al indice ]](#Tabla-de-contenidos)"
   ]
  },
  {
   "cell_type": "code",
   "execution_count": 41,
   "metadata": {
    "collapsed": false
   },
   "outputs": [
    {
     "data": {
      "text/html": [
       "<div id=\"23dd1a82-8430-423c-9069-d8afe2446acc\" style=\"height: 525px; width: 100%;\" class=\"plotly-graph-div\"></div><script type=\"text/javascript\">require([\"plotly\"], function(Plotly) { window.PLOTLYENV=window.PLOTLYENV || {};window.PLOTLYENV.BASE_URL=\"https://plot.ly\";Plotly.newPlot(\"23dd1a82-8430-423c-9069-d8afe2446acc\", [{\"y\": [804.0], \"type\": \"bar\", \"name\": \"0_C\", \"x\": [\"2015-01-31\"]}, {\"y\": [196.0], \"type\": \"bar\", \"name\": \"1_C\", \"x\": [\"2015-01-31\"]}], {\"title\": \"Efectividad scores IAM - 1000 personas\", \"barmode\": \"stack\", \"annotations\": [{\"xanchor\": \"center\", \"showarrow\": false, \"yanchor\": \"bottom\", \"y\": 19, \"text\": \"19%\", \"x\": \"2015-01-31\"}]}, {\"linkText\": \"Export to plot.ly\", \"showLink\": true})});</script>"
      ],
      "text/plain": [
       "<IPython.core.display.HTML object>"
      ]
     },
     "metadata": {},
     "output_type": "display_data"
    }
   ],
   "source": [
    "iplot(fig, filename='stacked-bar')"
   ]
  },
  {
   "cell_type": "code",
   "execution_count": 42,
   "metadata": {
    "collapsed": false
   },
   "outputs": [
    {
     "name": "stdout",
     "output_type": "stream",
     "text": [
      "File:  /home/jasam/motor/sura_acreditacion_scores/fuente_externa_csv/predicciones01Nov16_1344_iam_2.csv\n",
      "Rows:  70797\n",
      "month_parsed:  2015-01-31\n",
      "final_date:  2016-02-29\n",
      "Getting plot\n",
      "--- Seconds lapsed: 1.367189884185791 ---\n"
     ]
    }
   ],
   "source": [
    "\n",
    "import time\n",
    "import plotly.plotly as py\n",
    "import plotly.graph_objs as go\n",
    "from sklearn.metrics import roc_curve, auc\n",
    "\n",
    "# On Linux\n",
    "file = '/home/jasam/motor/sura_acreditacion_scores/fuente_externa_csv/predicciones01Nov16_1344_iam_2.csv'\n",
    "\n",
    "# On Windows\n",
    "#file = 'C:/Users/Javier/Documents/motor/sura_acreditacion_scores/fuente_externa_csv/predicciones01Nov16_1344_iam_2.csv'\n",
    "\n",
    "# Columns to project in select clause - IAM\n",
    "columns = ['id_afiliado', 'period', 'predict_pred_aaat_iam', 'x0_c_pred_aaat_iam', 'x1_c_pred_aaat_iam']\n",
    "# Columns for merge\n",
    "columns_merge = ['id_afiliado', 'period', 'predict_pred_aaat_iam', 'x0_c_pred_aaat_iam', 'x1_c_pred_aaat_iam','count']\n",
    "order_desc = 'x1_c_pred_aaat_iam'\n",
    "complicacion = 'IAM'\n",
    "tipo_complicacion = 'Desenlace final'\n",
    "limit = 7000\n",
    "number_months_to_analyze = 1\n",
    "image_path = '/home/jasam/motor/sura_acreditacion_scores/images/'\n",
    "index = 1    \n",
    "  \n",
    "start_time = time.time()\n",
    "print('File: ', file)\n",
    "#Read file\n",
    "df = read_file_df(file, schema)\n",
    "df.cache()\n",
    "print('Rows: ', df.count())\n",
    "    \n",
    "# Do data analysis!\n",
    "image_file_name = 'IAM_bar_plot_' + str(index) + '.png'\n",
    "plot_title = 'Efectividad scores IAM - 7000 personas'\n",
    "fig, results_pandas = generate_analysis(columns, limit, \n",
    "                  number_months_to_analyze, columns_merge, \n",
    "                  'N', order_desc, complicacion, tipo_complicacion, image_path, \n",
    "                  image_file_name, plot_title)\n",
    "# Roc curve\n",
    "actual = results_pandas['label_b'].values\n",
    "predictions = results_pandas['prediction_b'].values\n",
    "false_positive_rate, true_positive_rate, thresholds = roc_curve(actual, predictions)\n",
    "roc_auc = auc(false_positive_rate, true_positive_rate)\n",
    "\n",
    "print(\"--- Seconds lapsed: %s ---\" % (time.time() - start_time))"
   ]
  },
  {
   "cell_type": "markdown",
   "metadata": {},
   "source": [
    "## Segundo modelo IAM Rendimiento 7000 personas"
   ]
  },
  {
   "cell_type": "markdown",
   "metadata": {},
   "source": [
    "[[ ir al indice ]](#Tabla-de-contenidos)"
   ]
  },
  {
   "cell_type": "code",
   "execution_count": 43,
   "metadata": {
    "collapsed": false
   },
   "outputs": [
    {
     "data": {
      "text/html": [
       "<div id=\"5e053819-15d9-481a-8a1c-f4c9070d6541\" style=\"height: 525px; width: 100%;\" class=\"plotly-graph-div\"></div><script type=\"text/javascript\">require([\"plotly\"], function(Plotly) { window.PLOTLYENV=window.PLOTLYENV || {};window.PLOTLYENV.BASE_URL=\"https://plot.ly\";Plotly.newPlot(\"5e053819-15d9-481a-8a1c-f4c9070d6541\", [{\"y\": [6332.0], \"type\": \"bar\", \"name\": \"0_C\", \"x\": [\"2015-01-31\"]}, {\"y\": [668.0], \"type\": \"bar\", \"name\": \"1_C\", \"x\": [\"2015-01-31\"]}], {\"title\": \"Efectividad scores IAM - 7000 personas\", \"barmode\": \"stack\", \"annotations\": [{\"xanchor\": \"center\", \"showarrow\": false, \"yanchor\": \"bottom\", \"y\": 9, \"text\": \"9%\", \"x\": \"2015-01-31\"}]}, {\"linkText\": \"Export to plot.ly\", \"showLink\": true})});</script>"
      ],
      "text/plain": [
       "<IPython.core.display.HTML object>"
      ]
     },
     "metadata": {},
     "output_type": "display_data"
    }
   ],
   "source": [
    "iplot(fig, filename='stacked-bar')"
   ]
  },
  {
   "cell_type": "code",
   "execution_count": 45,
   "metadata": {
    "collapsed": false
   },
   "outputs": [
    {
     "name": "stdout",
     "output_type": "stream",
     "text": [
      "File:  /home/jasam/motor/sura_acreditacion_scores/fuente_externa_csv/predicciones01Nov16_1344_iam_2.csv\n",
      "Rows:  70797\n",
      "month_parsed:  2015-01-31\n",
      "final_date:  2016-02-29\n",
      "Getting plot\n",
      "--- Seconds lapsed: 2.186326265335083 ---\n"
     ]
    }
   ],
   "source": [
    "\n",
    "import time\n",
    "import plotly.plotly as py\n",
    "import plotly.graph_objs as go\n",
    "from sklearn.metrics import roc_curve, auc\n",
    "\n",
    "# On Linux\n",
    "file = '/home/jasam/motor/sura_acreditacion_scores/fuente_externa_csv/predicciones01Nov16_1344_iam_2.csv'\n",
    "\n",
    "# On Windows\n",
    "#file = 'C:/Users/Javier/Documents/motor/sura_acreditacion_scores/fuente_externa_csv/predicciones01Nov16_1344_iam_2.csv'\n",
    "\n",
    "# Columns to project in select clause - IAM\n",
    "columns = ['id_afiliado', 'period', 'predict_pred_aaat_iam', 'x0_c_pred_aaat_iam', 'x1_c_pred_aaat_iam']\n",
    "# Columns for merge\n",
    "columns_merge = ['id_afiliado', 'period', 'predict_pred_aaat_iam', 'x0_c_pred_aaat_iam', 'x1_c_pred_aaat_iam','count']\n",
    "order_desc = 'x1_c_pred_aaat_iam'\n",
    "complicacion = 'IAM'\n",
    "tipo_complicacion = 'Desenlace final'\n",
    "limit = 100000\n",
    "number_months_to_analyze = 1\n",
    "image_path = '/home/jasam/motor/sura_acreditacion_scores/images/'\n",
    "index = 1    \n",
    "  \n",
    "start_time = time.time()\n",
    "print('File: ', file)\n",
    "#Read file\n",
    "df = read_file_df(file, schema)\n",
    "df.cache()\n",
    "print('Rows: ', df.count())\n",
    "    \n",
    "# Do data analysis!\n",
    "image_file_name = 'IAM_bar_plot_' + str(index) + '.png'\n",
    "plot_title = 'Efectividad scores IAM - 1000 personas'\n",
    "fig, results_pandas = generate_analysis(columns, limit, \n",
    "                  number_months_to_analyze, columns_merge, \n",
    "                  'N', order_desc, complicacion, tipo_complicacion, image_path, \n",
    "                  image_file_name, plot_title)\n",
    "# Roc curve\n",
    "actual = results_pandas['label_b'].values\n",
    "predictions = results_pandas['prediction_b'].values\n",
    "false_positive_rate, true_positive_rate, thresholds = roc_curve(actual, predictions)\n",
    "roc_auc = auc(false_positive_rate, true_positive_rate)\n",
    "print(\"--- Seconds lapsed: %s ---\" % (time.time() - start_time))"
   ]
  },
  {
   "cell_type": "markdown",
   "metadata": {},
   "source": [
    "## Segundo modelo IAM ROC"
   ]
  },
  {
   "cell_type": "markdown",
   "metadata": {},
   "source": [
    "[[ ir al indice ]](#Tabla-de-contenidos)"
   ]
  },
  {
   "cell_type": "code",
   "execution_count": 46,
   "metadata": {
    "collapsed": false
   },
   "outputs": [
    {
     "data": {
      "text/html": [
       "<div id=\"4028432c-17ba-43b8-8e0c-115e0cd9ca57\" style=\"height: 525px; width: 100%;\" class=\"plotly-graph-div\"></div><script type=\"text/javascript\">require([\"plotly\"], function(Plotly) { window.PLOTLYENV=window.PLOTLYENV || {};window.PLOTLYENV.BASE_URL=\"https://plot.ly\";Plotly.newPlot(\"4028432c-17ba-43b8-8e0c-115e0cd9ca57\", [{\"y\": [0.0, 0.4823451032644903, 1.0], \"type\": \"scatter\", \"x\": [0.0, 0.11120410990533364, 1.0]}], {\"title\": \"Receiver Operating Characteristic\", \"xaxis\": {\"title\": \"True Positive Rate\"}, \"annotations\": [{\"yref\": \"y\", \"showarrow\": false, \"x\": 0.9, \"y\": 0.2, \"text\": \"Roc curve (area = 0.69)\", \"xref\": \"x\"}], \"shapes\": [{\"y0\": 0, \"y1\": 1, \"x1\": 1, \"type\": \"line\", \"line\": {\"color\": \"rgb(255,140,0)\", \"dash\": \"dot\"}, \"x0\": 0}], \"yaxis\": {\"title\": \"False Positive Rate\"}}, {\"linkText\": \"Export to plot.ly\", \"showLink\": true})});</script>"
      ],
      "text/plain": [
       "<IPython.core.display.HTML object>"
      ]
     },
     "metadata": {},
     "output_type": "display_data"
    }
   ],
   "source": [
    "fig = get_plot_roc(false_positive_rate, true_positive_rate)\n",
    "iplot(fig, filename='basic_line')"
   ]
  },
  {
   "cell_type": "code",
   "execution_count": 47,
   "metadata": {
    "collapsed": false
   },
   "outputs": [
    {
     "name": "stdout",
     "output_type": "stream",
     "text": [
      "File:  /home/jasam/motor/sura_acreditacion_scores/fuente_externa_csv/predicciones01Nov16_1420_iam_3.csv\n",
      "Rows:  70797\n",
      "month_parsed:  2015-01-31\n",
      "final_date:  2016-02-29\n",
      "Getting plot\n",
      "--- Seconds lapsed: 1.7165801525115967 ---\n"
     ]
    }
   ],
   "source": [
    "import time\n",
    "import plotly.plotly as py\n",
    "import plotly.graph_objs as go\n",
    "from sklearn.metrics import roc_curve, auc\n",
    "\n",
    "# On Linux\n",
    "file = '/home/jasam/motor/sura_acreditacion_scores/fuente_externa_csv/predicciones01Nov16_1420_iam_3.csv'\n",
    "\n",
    "# On Windows\n",
    "#file = 'C:/Users/Javier/Documents/motor/sura_acreditacion_scores/fuente_externa_csv/predicciones01Nov16_1420_iam_3.csv'\n",
    "\n",
    "# Columns to project in select clause - IAM\n",
    "columns = ['id_afiliado', 'period', 'predict_pred_aaat_iam', 'x0_c_pred_aaat_iam', 'x1_c_pred_aaat_iam']\n",
    "# Columns for merge\n",
    "columns_merge = ['id_afiliado', 'period', 'predict_pred_aaat_iam', 'x0_c_pred_aaat_iam', 'x1_c_pred_aaat_iam','count']\n",
    "order_desc = 'x1_c_pred_aaat_iam'\n",
    "complicacion = 'IAM'\n",
    "tipo_complicacion = 'Desenlace final'\n",
    "limit = 1000\n",
    "number_months_to_analyze = 1\n",
    "image_path = '/home/jasam/motor/sura_acreditacion_scores/images/'\n",
    "index = 1    \n",
    "  \n",
    "start_time = time.time()\n",
    "print('File: ', file)\n",
    "#Read file\n",
    "df = read_file_df(file, schema)\n",
    "df.cache()\n",
    "print('Rows: ', df.count())\n",
    "    \n",
    "# Do data analysis!\n",
    "image_file_name = 'IAM_bar_plot_' + str(index) + '.png'\n",
    "plot_title = 'Efectividad scores IAM - 1000 personas'\n",
    "fig, results_pandas = generate_analysis(columns, limit, \n",
    "                  number_months_to_analyze, columns_merge, \n",
    "                  'N', order_desc, complicacion, tipo_complicacion, image_path, \n",
    "                  image_file_name, plot_title)\n",
    "# Roc curve\n",
    "actual = results_pandas['label_b'].values\n",
    "predictions = results_pandas['prediction_b'].values\n",
    "false_positive_rate, true_positive_rate, thresholds = roc_curve(actual, predictions)\n",
    "roc_auc = auc(false_positive_rate, true_positive_rate)\n",
    "\n",
    "print(\"--- Seconds lapsed: %s ---\" % (time.time() - start_time))"
   ]
  },
  {
   "cell_type": "markdown",
   "metadata": {},
   "source": [
    "## Tercer modelo IAM Rendimiento 1000 personas"
   ]
  },
  {
   "cell_type": "markdown",
   "metadata": {},
   "source": [
    "[[ ir al indice ]](#Tabla-de-contenidos)"
   ]
  },
  {
   "cell_type": "code",
   "execution_count": 48,
   "metadata": {
    "collapsed": false
   },
   "outputs": [
    {
     "data": {
      "text/html": [
       "<div id=\"024b036d-1627-46ed-bcc1-31d6192f0afc\" style=\"height: 525px; width: 100%;\" class=\"plotly-graph-div\"></div><script type=\"text/javascript\">require([\"plotly\"], function(Plotly) { window.PLOTLYENV=window.PLOTLYENV || {};window.PLOTLYENV.BASE_URL=\"https://plot.ly\";Plotly.newPlot(\"024b036d-1627-46ed-bcc1-31d6192f0afc\", [{\"y\": [804.0], \"type\": \"bar\", \"name\": \"0_C\", \"x\": [\"2015-01-31\"]}, {\"y\": [196.0], \"type\": \"bar\", \"name\": \"1_C\", \"x\": [\"2015-01-31\"]}], {\"title\": \"Efectividad scores IAM - 1000 personas\", \"barmode\": \"stack\", \"annotations\": [{\"xanchor\": \"center\", \"showarrow\": false, \"yanchor\": \"bottom\", \"y\": 19, \"text\": \"19%\", \"x\": \"2015-01-31\"}]}, {\"linkText\": \"Export to plot.ly\", \"showLink\": true})});</script>"
      ],
      "text/plain": [
       "<IPython.core.display.HTML object>"
      ]
     },
     "metadata": {},
     "output_type": "display_data"
    }
   ],
   "source": [
    "iplot(fig, filename='stacked-bar')"
   ]
  },
  {
   "cell_type": "code",
   "execution_count": 49,
   "metadata": {
    "collapsed": false
   },
   "outputs": [
    {
     "name": "stdout",
     "output_type": "stream",
     "text": [
      "File:  /home/jasam/motor/sura_acreditacion_scores/fuente_externa_csv/predicciones01Nov16_1420_iam_3.csv\n",
      "Rows:  70797\n",
      "month_parsed:  2015-01-31\n",
      "final_date:  2016-02-29\n",
      "Getting plot\n",
      "--- Seconds lapsed: 1.4150738716125488 ---\n"
     ]
    }
   ],
   "source": [
    "import time\n",
    "import plotly.plotly as py\n",
    "import plotly.graph_objs as go\n",
    "from sklearn.metrics import roc_curve, auc\n",
    "\n",
    "# On Linux\n",
    "file = '/home/jasam/motor/sura_acreditacion_scores/fuente_externa_csv/predicciones01Nov16_1420_iam_3.csv'\n",
    "\n",
    "# On Windows\n",
    "#file = 'C:/Users/Javier/Documents/motor/sura_acreditacion_scores/fuente_externa_csv/predicciones01Nov16_1420_iam_3.csv'\n",
    "\n",
    "# Columns to project in select clause - IAM\n",
    "columns = ['id_afiliado', 'period', 'predict_pred_aaat_iam', 'x0_c_pred_aaat_iam', 'x1_c_pred_aaat_iam']\n",
    "# Columns for merge\n",
    "columns_merge = ['id_afiliado', 'period', 'predict_pred_aaat_iam', 'x0_c_pred_aaat_iam', 'x1_c_pred_aaat_iam','count']\n",
    "order_desc = 'x1_c_pred_aaat_iam'\n",
    "complicacion = 'IAM'\n",
    "tipo_complicacion = 'Desenlace final'\n",
    "limit = 7000\n",
    "number_months_to_analyze = 1\n",
    "image_path = '/home/jasam/motor/sura_acreditacion_scores/images/'\n",
    "index = 1    \n",
    "  \n",
    "start_time = time.time()\n",
    "print('File: ', file)\n",
    "#Read file\n",
    "df = read_file_df(file, schema)\n",
    "df.cache()\n",
    "print('Rows: ', df.count())\n",
    "    \n",
    "# Do data analysis!\n",
    "image_file_name = 'IAM_bar_plot_' + str(index) + '.png'\n",
    "plot_title = 'Efectividad scores IAM - 7000 personas'\n",
    "fig, results_pandas = generate_analysis(columns, limit, \n",
    "                  number_months_to_analyze, columns_merge, \n",
    "                  'N', order_desc, complicacion, tipo_complicacion, image_path, \n",
    "                  image_file_name, plot_title)\n",
    "# Roc curve\n",
    "actual = results_pandas['label_b'].values\n",
    "predictions = results_pandas['prediction_b'].values\n",
    "false_positive_rate, true_positive_rate, thresholds = roc_curve(actual, predictions)\n",
    "roc_auc = auc(false_positive_rate, true_positive_rate)\n",
    "\n",
    "print(\"--- Seconds lapsed: %s ---\" % (time.time() - start_time))"
   ]
  },
  {
   "cell_type": "markdown",
   "metadata": {},
   "source": [
    "## Tercer modelo IAM Rendimiento 7000 personas"
   ]
  },
  {
   "cell_type": "markdown",
   "metadata": {},
   "source": [
    "[[ ir al indice ]](#Tabla-de-contenidos)"
   ]
  },
  {
   "cell_type": "code",
   "execution_count": 50,
   "metadata": {
    "collapsed": false
   },
   "outputs": [
    {
     "data": {
      "text/html": [
       "<div id=\"72c20e72-d940-42b4-b054-bab16aeb87d2\" style=\"height: 525px; width: 100%;\" class=\"plotly-graph-div\"></div><script type=\"text/javascript\">require([\"plotly\"], function(Plotly) { window.PLOTLYENV=window.PLOTLYENV || {};window.PLOTLYENV.BASE_URL=\"https://plot.ly\";Plotly.newPlot(\"72c20e72-d940-42b4-b054-bab16aeb87d2\", [{\"y\": [6332.0], \"type\": \"bar\", \"name\": \"0_C\", \"x\": [\"2015-01-31\"]}, {\"y\": [668.0], \"type\": \"bar\", \"name\": \"1_C\", \"x\": [\"2015-01-31\"]}], {\"title\": \"Efectividad scores IAM - 7000 personas\", \"barmode\": \"stack\", \"annotations\": [{\"xanchor\": \"center\", \"showarrow\": false, \"yanchor\": \"bottom\", \"y\": 9, \"text\": \"9%\", \"x\": \"2015-01-31\"}]}, {\"linkText\": \"Export to plot.ly\", \"showLink\": true})});</script>"
      ],
      "text/plain": [
       "<IPython.core.display.HTML object>"
      ]
     },
     "metadata": {},
     "output_type": "display_data"
    }
   ],
   "source": [
    "iplot(fig, filename='stacked-bar')"
   ]
  },
  {
   "cell_type": "code",
   "execution_count": 51,
   "metadata": {
    "collapsed": false
   },
   "outputs": [
    {
     "name": "stdout",
     "output_type": "stream",
     "text": [
      "File:  /home/jasam/motor/sura_acreditacion_scores/fuente_externa_csv/predicciones01Nov16_1420_iam_3.csv\n",
      "Rows:  70797\n",
      "month_parsed:  2015-01-31\n",
      "final_date:  2016-02-29\n",
      "Getting plot\n",
      "--- Seconds lapsed: 2.1461970806121826 ---\n"
     ]
    }
   ],
   "source": [
    "import time\n",
    "import plotly.plotly as py\n",
    "import plotly.graph_objs as go\n",
    "from sklearn.metrics import roc_curve, auc\n",
    "\n",
    "# On Linux\n",
    "file = '/home/jasam/motor/sura_acreditacion_scores/fuente_externa_csv/predicciones01Nov16_1420_iam_3.csv'\n",
    "\n",
    "# On Windows\n",
    "#file = 'C:/Users/Javier/Documents/motor/sura_acreditacion_scores/fuente_externa_csv/predicciones01Nov16_1420_iam_3.csv'\n",
    "\n",
    "# Columns to project in select clause - IAM\n",
    "columns = ['id_afiliado', 'period', 'predict_pred_aaat_iam', 'x0_c_pred_aaat_iam', 'x1_c_pred_aaat_iam']\n",
    "# Columns for merge\n",
    "columns_merge = ['id_afiliado', 'period', 'predict_pred_aaat_iam', 'x0_c_pred_aaat_iam', 'x1_c_pred_aaat_iam','count']\n",
    "order_desc = 'x1_c_pred_aaat_iam'\n",
    "complicacion = 'IAM'\n",
    "tipo_complicacion = 'Desenlace final'\n",
    "limit = 100000\n",
    "number_months_to_analyze = 1\n",
    "image_path = '/home/jasam/motor/sura_acreditacion_scores/images/'\n",
    "index = 1    \n",
    "  \n",
    "start_time = time.time()\n",
    "print('File: ', file)\n",
    "#Read file\n",
    "df = read_file_df(file, schema)\n",
    "df.cache()\n",
    "print('Rows: ', df.count())\n",
    "    \n",
    "# Do data analysis!\n",
    "image_file_name = 'IAM_bar_plot_' + str(index) + '.png'\n",
    "plot_title = 'Efectividad scores IAM - 1000 personas'\n",
    "fig, results_pandas = generate_analysis(columns, limit, \n",
    "                  number_months_to_analyze, columns_merge, \n",
    "                  'N', order_desc, complicacion, tipo_complicacion, image_path, \n",
    "                  image_file_name, plot_title)\n",
    "# Roc curve\n",
    "actual = results_pandas['label_b'].values\n",
    "predictions = results_pandas['prediction_b'].values\n",
    "false_positive_rate, true_positive_rate, thresholds = roc_curve(actual, predictions)\n",
    "roc_auc = auc(false_positive_rate, true_positive_rate)\n",
    "\n",
    "print(\"--- Seconds lapsed: %s ---\" % (time.time() - start_time))"
   ]
  },
  {
   "cell_type": "markdown",
   "metadata": {},
   "source": [
    "## Tercer modelo IAM ROC"
   ]
  },
  {
   "cell_type": "markdown",
   "metadata": {},
   "source": [
    "[[ ir al indice ]](#Tabla-de-contenidos)"
   ]
  },
  {
   "cell_type": "code",
   "execution_count": 52,
   "metadata": {
    "collapsed": false
   },
   "outputs": [
    {
     "data": {
      "text/html": [
       "<div id=\"14df6e9c-b4fc-4551-926f-111a286f1f29\" style=\"height: 525px; width: 100%;\" class=\"plotly-graph-div\"></div><script type=\"text/javascript\">require([\"plotly\"], function(Plotly) { window.PLOTLYENV=window.PLOTLYENV || {};window.PLOTLYENV.BASE_URL=\"https://plot.ly\";Plotly.newPlot(\"14df6e9c-b4fc-4551-926f-111a286f1f29\", [{\"y\": [0.0, 0.4823451032644903, 1.0], \"type\": \"scatter\", \"x\": [0.0, 0.11120410990533364, 1.0]}], {\"title\": \"Receiver Operating Characteristic\", \"xaxis\": {\"title\": \"True Positive Rate\"}, \"annotations\": [{\"yref\": \"y\", \"showarrow\": false, \"x\": 0.9, \"y\": 0.2, \"text\": \"Roc curve (area = 0.69)\", \"xref\": \"x\"}], \"shapes\": [{\"y0\": 0, \"y1\": 1, \"x1\": 1, \"type\": \"line\", \"line\": {\"color\": \"rgb(255,140,0)\", \"dash\": \"dot\"}, \"x0\": 0}], \"yaxis\": {\"title\": \"False Positive Rate\"}}, {\"linkText\": \"Export to plot.ly\", \"showLink\": true})});</script>"
      ],
      "text/plain": [
       "<IPython.core.display.HTML object>"
      ]
     },
     "metadata": {},
     "output_type": "display_data"
    }
   ],
   "source": [
    "fig = get_plot_roc(false_positive_rate, true_positive_rate)\n",
    "iplot(fig, filename='basic_line')"
   ]
  }
 ],
 "metadata": {
  "anaconda-cloud": {},
  "kernelspec": {
   "display_name": "Python 3",
   "language": "python",
   "name": "python3"
  },
  "language_info": {
   "codemirror_mode": {
    "name": "ipython",
    "version": 3
   },
   "file_extension": ".py",
   "mimetype": "text/x-python",
   "name": "python",
   "nbconvert_exporter": "python",
   "pygments_lexer": "ipython3",
   "version": "3.5.2"
  }
 },
 "nbformat": 4,
 "nbformat_minor": 0
}
