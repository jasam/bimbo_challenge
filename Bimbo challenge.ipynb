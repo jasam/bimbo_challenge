{
 "cells": [
  {
   "cell_type": "markdown",
   "metadata": {},
   "source": [
    "# Grupo Bimbo Inventory Demand\n",
    "[Link](https://www.kaggle.com/c/grupo-bimbo-inventory-demand)"
   ]
  },
  {
   "cell_type": "markdown",
   "metadata": {},
   "source": [
    "## Describing \"producto_tabla\""
   ]
  },
  {
   "cell_type": "code",
   "execution_count": 11,
   "metadata": {
    "collapsed": false
   },
   "outputs": [
    {
     "name": "stdout",
     "output_type": "stream",
     "text": [
      "+----------+----------------------------------------+\n",
      "|product_id|product_name                            |\n",
      "+----------+----------------------------------------+\n",
      "|0         |NO IDENTIFICADO 0                       |\n",
      "|9         |Capuccino Moka 750g NES 9               |\n",
      "|41        |Bimbollos Ext sAjonjoli 6p 480g BIM 41  |\n",
      "|53        |Burritos Sincro 170g CU LON 53          |\n",
      "|72        |Div Tira Mini Doradita 4p 45g TR 72     |\n",
      "|73        |Pan Multigrano Linaza 540g BIM 73       |\n",
      "|98        |Tostado Integral 180g WON 98            |\n",
      "|99        |Pan Blanco 567g WON 99                  |\n",
      "|100       |Super Pan Bco Ajonjoli 680g SP WON 100  |\n",
      "|106       |Wonder 100pct mediano 475g WON 106      |\n",
      "|107       |Wonder 100pct gde 680g SP WON 107       |\n",
      "|108       |Baguette Precocida Cong 280g DH 108     |\n",
      "|109       |Pan Multicereal 475g WON 109            |\n",
      "|112       |Tostado Integral 180g WON 112           |\n",
      "|122       |Biscotel Receta Original 410g CU SUA 122|\n",
      "|123       |Super Bollos 5in 8p 540g WON 123        |\n",
      "|125       |Bollos 8p 450g WON 125                  |\n",
      "|131       |Bollos BK 4in 36p 1635g SL 131          |\n",
      "|132       |Bollos BK 5in 30p 1730g SL 132          |\n",
      "|134       |Bollos BK 4in 30p 1635g TIR SL 134      |\n",
      "+----------+----------------------------------------+\n",
      "only showing top 20 rows\n",
      "\n"
     ]
    }
   ],
   "source": [
    "# Load producto_tabla data\n",
    "from pyspark.sql.types import StringType\n",
    "from pyspark.sql.functions import col\n",
    "\n",
    "path = '/home/jasam/Downloads/bimbo/producto_tabla.csv'\n",
    "product_table_rdd = (sc.textFile(path)\n",
    "                     .map(lambda line: line.split(\",\")))\n",
    "\n",
    "product_table_df = (product_table_rdd\n",
    "                    .toDF(['product_id','product_name']))\n",
    "#drop Header\n",
    "product_table_df = (product_table_df\n",
    "                    .filter(col('product_id') != 'Producto_ID'))\n",
    "\n",
    "product_table_df.show(20, False)"
   ]
  },
  {
   "cell_type": "markdown",
   "metadata": {},
   "source": [
    "## Count rows - producto_tabla"
   ]
  },
  {
   "cell_type": "code",
   "execution_count": 42,
   "metadata": {
    "collapsed": false
   },
   "outputs": [
    {
     "data": {
      "text/plain": [
       "'2,592'"
      ]
     },
     "execution_count": 42,
     "metadata": {},
     "output_type": "execute_result"
    }
   ],
   "source": [
    "format(product_table_df.count(), ',d')"
   ]
  },
  {
   "cell_type": "markdown",
   "metadata": {},
   "source": [
    "## Describing \"cliente_tabla\""
   ]
  },
  {
   "cell_type": "code",
   "execution_count": 40,
   "metadata": {
    "collapsed": false
   },
   "outputs": [
    {
     "name": "stdout",
     "output_type": "stream",
     "text": [
      "+-----------+---------------------------------------+\n",
      "|customer_id|customer_name                          |\n",
      "+-----------+---------------------------------------+\n",
      "|0          |SIN NOMBRE                             |\n",
      "|1          |OXXO XINANTECATL                       |\n",
      "|2          |SIN NOMBRE                             |\n",
      "|3          |EL MORENO                              |\n",
      "|4          |SDN SER  DE ALIM  CUERPO SA CIA  DE INT|\n",
      "|4          |SDN SER DE ALIM CUERPO SA CIA DE INT   |\n",
      "|5          |LA VAQUITA                             |\n",
      "|6          |LUPITA                                 |\n",
      "|7          |I M EL GUERO                           |\n",
      "|8          |MINI SUPER LOS LUPES                   |\n",
      "|9          |SUPER KOMPRAS MICRO COLON              |\n",
      "|10         |LONJA MERCANTIL DE TODO                |\n",
      "|11         |FARMACIA NICOLAS SAN JUAN              |\n",
      "|12         |PAPELERIA CATALA                       |\n",
      "|13         |ELENA                                  |\n",
      "|14         |CASA TRINO                             |\n",
      "|15         |FMA035947 BIMBO SA DE CV               |\n",
      "|16         |JOYS                                   |\n",
      "|17         |DE MARCO                               |\n",
      "|18         |LUPES II                               |\n",
      "+-----------+---------------------------------------+\n",
      "only showing top 20 rows\n",
      "\n"
     ]
    }
   ],
   "source": [
    "# Load producto_tabla data\n",
    "from pyspark.sql.types import StringType\n",
    "from pyspark.sql.functions import col\n",
    "\n",
    "path = '/home/jasam/Downloads/bimbo/cliente_tabla.csv'\n",
    "customer_table_rdd = (sc.textFile(path)\n",
    "                      .map(lambda line: line.split(\",\")))\n",
    "\n",
    "customer_table_df = (customer_table_rdd\n",
    "                     .toDF(['customer_id','customer_name']))\n",
    "#drop Header\n",
    "customer_table_df = (customer_table_df\n",
    "                     .filter(col('customer_id') != 'Cliente_ID'))\n",
    "\n",
    "customer_table_df.show(20, False)"
   ]
  },
  {
   "cell_type": "markdown",
   "metadata": {},
   "source": [
    "## Count rows - cliente_tabla"
   ]
  },
  {
   "cell_type": "code",
   "execution_count": 45,
   "metadata": {
    "collapsed": false
   },
   "outputs": [
    {
     "data": {
      "text/plain": [
       "'935,362'"
      ]
     },
     "execution_count": 45,
     "metadata": {},
     "output_type": "execute_result"
    }
   ],
   "source": [
    "format(customer_table_df.count(), ',d')"
   ]
  },
  {
   "cell_type": "markdown",
   "metadata": {},
   "source": [
    "## Describing \"town_state\""
   ]
  },
  {
   "cell_type": "code",
   "execution_count": 70,
   "metadata": {
    "collapsed": false
   },
   "outputs": [
    {
     "name": "stdout",
     "output_type": "stream",
     "text": [
      "+---------+-----------------------+----------------+\n",
      "|agency_id|town                   |state           |\n",
      "+---------+-----------------------+----------------+\n",
      "|1110     |2008 AG. LAGO FILT     |\"MÉXICO D.F.\"   |\n",
      "|1111     |2002 AG. AZCAPOTZALCO  |\"MÉXICO D.F.\"   |\n",
      "|1112     |2004 AG. CUAUTITLAN    |ESTADO DE MÉXICO|\n",
      "|1113     |2008 AG. LAGO FILT     |\"MÉXICO D.F.\"   |\n",
      "|1114     |2029 AG.IZTAPALAPA 2   |\"MÉXICO D.F.\"   |\n",
      "|1116     |2011 AG. SAN ANTONIO   |\"MÉXICO D.F.\"   |\n",
      "|1117     |2001 AG. ATIZAPAN      |ESTADO DE MÉXICO|\n",
      "|1118     |2007 AG. LA VILLA      |\"MÉXICO D.F.\"   |\n",
      "|1119     |2013 AG. MEGA NAUCALPAN|ESTADO DE MÉXICO|\n",
      "|1120     |2018 AG. TEPALCATES 2  |\"MÉXICO D.F.\"   |\n",
      "|1121     |2016 AG. SAN LORENZO   |\"MÉXICO D.F.\"   |\n",
      "|1122     |2019 AG. XALOSTOC      |ESTADO DE MÉXICO|\n",
      "|1123     |2094 CHALCO_BM         |ESTADO DE MÉXICO|\n",
      "|1124     |2021 AG. XOCHIMILCO 2  |\"MÉXICO D.F.\"   |\n",
      "|1126     |2017 AG. SANTA CLARA   |ESTADO DE MÉXICO|\n",
      "|1127     |2003 AG. COACALCO      |ESTADO DE MÉXICO|\n",
      "|1129     |2011 AG. SAN ANTONIO   |\"MÉXICO D.F.\"   |\n",
      "|1130     |2010 AG. LOS REYES     |ESTADO DE MÉXICO|\n",
      "|1137     |2014 AG. NEZA          |ESTADO DE MÉXICO|\n",
      "|1138     |2015 AG. ROJO GOMEZ    |\"MÉXICO D.F.\"   |\n",
      "+---------+-----------------------+----------------+\n",
      "only showing top 20 rows\n",
      "\n"
     ]
    }
   ],
   "source": [
    "# Load producto_tabla data\n",
    "from pyspark.sql.types import StringType\n",
    "from pyspark.sql.functions import col\n",
    "\n",
    "path = '/home/jasam/Downloads/bimbo/town_state.csv'\n",
    "\n",
    "# Clean data\n",
    "town_state_table_rdd = (sc.textFile(path)\n",
    "                        .map(lambda line: line.replace('MÉXICO,','MÉXICO')))\n",
    "\n",
    "town_state_table_rdd = (town_state_table_rdd\n",
    "                        .map(lambda line: line.split(\",\")))\n",
    "town_state_table_df = (town_state_table_rdd\n",
    "                       .toDF(['agency_id','town','state']))\n",
    "#drop Header\n",
    "town_state_table_df = (town_state_table_df\n",
    "                       .filter(col('agency_id') != 'Agencia_ID'))\n",
    "\n",
    "town_state_table_df.show(20, False)"
   ]
  },
  {
   "cell_type": "markdown",
   "metadata": {},
   "source": [
    "## Count rows - town_state"
   ]
  },
  {
   "cell_type": "code",
   "execution_count": 86,
   "metadata": {
    "collapsed": false
   },
   "outputs": [
    {
     "data": {
      "text/plain": [
       "'790'"
      ]
     },
     "execution_count": 86,
     "metadata": {},
     "output_type": "execute_result"
    }
   ],
   "source": [
    "format(town_state_table_df.count(), ',d')"
   ]
  },
  {
   "cell_type": "markdown",
   "metadata": {},
   "source": [
    "## Group by state - count  - town_state table"
   ]
  },
  {
   "cell_type": "code",
   "execution_count": 85,
   "metadata": {
    "collapsed": false
   },
   "outputs": [
    {
     "name": "stdout",
     "output_type": "stream",
     "text": [
      "+--------------------+-----+\n",
      "|               state|count|\n",
      "+--------------------+-----+\n",
      "|    ESTADO DE MÉXICO|   71|\n",
      "|       \"MÉXICO D.F.\"|   65|\n",
      "|             JALISCO|   55|\n",
      "|            VERACRUZ|   45|\n",
      "|          GUANAJUATO|   39|\n",
      "|              SONORA|   34|\n",
      "|          NUEVO LEÓN|   34|\n",
      "|              PUEBLA|   34|\n",
      "|           MICHOACÁN|   33|\n",
      "|          TAMAULIPAS|   32|\n",
      "|BAJA CALIFORNIA N...|   32|\n",
      "|            COAHUILA|   29|\n",
      "|           CHIHUAHUA|   25|\n",
      "|             SINALOA|   23|\n",
      "|              OAXACA|   22|\n",
      "|            GUERRERO|   21|\n",
      "|             HIDALGO|   21|\n",
      "| BAJA CALIFORNIA SUR|   17|\n",
      "|             CHIAPAS|   16|\n",
      "|     SAN LUIS POTOSÍ|   15|\n",
      "+--------------------+-----+\n",
      "only showing top 20 rows\n",
      "\n"
     ]
    }
   ],
   "source": [
    "(town_state_table_df.groupBy('state')\n",
    "                    .count()\n",
    "                    .orderBy(col('count').desc())\n",
    "                    .show(20))"
   ]
  },
  {
   "cell_type": "markdown",
   "metadata": {},
   "source": [
    "## Describing \"train data\""
   ]
  },
  {
   "cell_type": "code",
   "execution_count": 14,
   "metadata": {
    "collapsed": false
   },
   "outputs": [
    {
     "name": "stdout",
     "output_type": "stream",
     "text": [
      "+----+---------+-------+---------+-----------+----------+--------------+----------+------------+--------+----------------+\n",
      "|week|agency_id|channel|route_sak|customer_id|product_id|sale_uni_today|sale_today|dev_uni_prox|dev_prox|demand_uni_equil|\n",
      "+----+---------+-------+---------+-----------+----------+--------------+----------+------------+--------+----------------+\n",
      "|3   |1110     |7      |3301     |15766      |1212      |3             |25.14     |0           |0.0     |3               |\n",
      "|3   |1110     |7      |3301     |15766      |1216      |4             |33.52     |0           |0.0     |4               |\n",
      "|3   |1110     |7      |3301     |15766      |1238      |4             |39.32     |0           |0.0     |4               |\n",
      "|3   |1110     |7      |3301     |15766      |1240      |4             |33.52     |0           |0.0     |4               |\n",
      "|3   |1110     |7      |3301     |15766      |1242      |3             |22.92     |0           |0.0     |3               |\n",
      "|3   |1110     |7      |3301     |15766      |1250      |5             |38.2      |0           |0.0     |5               |\n",
      "|3   |1110     |7      |3301     |15766      |1309      |3             |20.28     |0           |0.0     |3               |\n",
      "|3   |1110     |7      |3301     |15766      |3894      |6             |56.1      |0           |0.0     |6               |\n",
      "|3   |1110     |7      |3301     |15766      |4085      |4             |24.6      |0           |0.0     |4               |\n",
      "|3   |1110     |7      |3301     |15766      |5310      |6             |31.68     |0           |0.0     |6               |\n",
      "+----+---------+-------+---------+-----------+----------+--------------+----------+------------+--------+----------------+\n",
      "only showing top 10 rows\n",
      "\n"
     ]
    }
   ],
   "source": [
    "# Load producto_tabla data\n",
    "from pyspark.sql.types import StringType\n",
    "from pyspark.sql.functions import col\n",
    "\n",
    "path = '/data/train.csv'\n",
    "train_table_rdd = (sc.textFile(path)\n",
    "                   .map(lambda line: line.split(\",\")))\n",
    "columns = ['week','agency_id','channel','route_sak','customer_id',\n",
    "           'product_id','sale_uni_today','sale_today','dev_uni_prox',\n",
    "           'dev_prox','demand_uni_equil']\n",
    "train_table_df = (train_table_rdd\n",
    "                  .toDF(columns))\n",
    "\n",
    "#drop Header\n",
    "train_table_df = (train_table_df\n",
    "                  .filter(col('week') != 'Semana'))\n",
    "\n",
    "train_table_df.show(10, False)"
   ]
  },
  {
   "cell_type": "markdown",
   "metadata": {},
   "source": [
    "## Schema train data"
   ]
  },
  {
   "cell_type": "code",
   "execution_count": 5,
   "metadata": {
    "collapsed": false
   },
   "outputs": [
    {
     "name": "stdout",
     "output_type": "stream",
     "text": [
      "root\n",
      " |-- week: string (nullable = true)\n",
      " |-- agency_id: string (nullable = true)\n",
      " |-- channel: string (nullable = true)\n",
      " |-- route_sak: string (nullable = true)\n",
      " |-- customer_id: string (nullable = true)\n",
      " |-- product_id: string (nullable = true)\n",
      " |-- sale_uni_today: string (nullable = true)\n",
      " |-- sale_today: string (nullable = true)\n",
      " |-- dev_uni_prox: string (nullable = true)\n",
      " |-- dev_prox: string (nullable = true)\n",
      " |-- demand_uni_equil: string (nullable = true)\n",
      "\n"
     ]
    }
   ],
   "source": [
    "train_table_df.printSchema()"
   ]
  },
  {
   "cell_type": "markdown",
   "metadata": {},
   "source": [
    "## Count rows - train_table"
   ]
  },
  {
   "cell_type": "code",
   "execution_count": 2,
   "metadata": {
    "collapsed": false
   },
   "outputs": [
    {
     "data": {
      "text/plain": [
       "'74,180,464'"
      ]
     },
     "execution_count": 2,
     "metadata": {},
     "output_type": "execute_result"
    }
   ],
   "source": [
    "format(train_table_df.count(), ',d')"
   ]
  },
  {
   "cell_type": "markdown",
   "metadata": {},
   "source": [
    "## Descriptive Statistics - train_table"
   ]
  },
  {
   "cell_type": "code",
   "execution_count": 3,
   "metadata": {
    "collapsed": false
   },
   "outputs": [
    {
     "name": "stdout",
     "output_type": "stream",
     "text": [
      "+-------+------------------+-----------------+------------------+------------------+------------------+\n",
      "|summary|    sale_uni_today|       sale_today|      dev_uni_prox|          dev_prox|  demand_uni_equil|\n",
      "+-------+------------------+-----------------+------------------+------------------+------------------+\n",
      "|  count|          74180464|         74180464|          74180464|          74180464|          74180464|\n",
      "|   mean| 7.310163468376256|68.54452258608424|0.1302576646056029|1.2432480515354734|7.2245640038056385|\n",
      "| stddev|21.967336840002165|338.9795158521776|29.323204167613063|39.215522581495215| 21.77119294903071|\n",
      "|    min|                 0|              0.0|                 0|               0.0|                 0|\n",
      "|    max|               999|           9999.2|                99|            999.92|               999|\n",
      "+-------+------------------+-----------------+------------------+------------------+------------------+\n",
      "\n"
     ]
    }
   ],
   "source": [
    "train_table_df.describe('sale_uni_today', 'sale_today', 'dev_uni_prox', 'dev_prox', 'demand_uni_equil').show()"
   ]
  },
  {
   "cell_type": "markdown",
   "metadata": {},
   "source": [
    "## Descriptive Statistics - \"correlation\" between unitary sales  and sales"
   ]
  },
  {
   "cell_type": "code",
   "execution_count": 4,
   "metadata": {
    "collapsed": false
   },
   "outputs": [
    {
     "data": {
      "text/plain": [
       "0.7336777290062535"
      ]
     },
     "execution_count": 4,
     "metadata": {},
     "output_type": "execute_result"
    }
   ],
   "source": [
    "train_table_df_cor = (train_table_df.select(train_table_df.sale_uni_today.cast('float'), \n",
    "                                            train_table_df.sale_today.cast('float')))\n",
    "train_table_df_cor.stat.corr('sale_uni_today', 'sale_today')"
   ]
  },
  {
   "cell_type": "markdown",
   "metadata": {},
   "source": [
    "## Descriptive Statistics - \"correlation\" between dev_uni_prox  and dev_prox"
   ]
  },
  {
   "cell_type": "code",
   "execution_count": 13,
   "metadata": {
    "collapsed": false
   },
   "outputs": [
    {
     "data": {
      "text/plain": [
       "0.1294211664137144"
      ]
     },
     "execution_count": 13,
     "metadata": {},
     "output_type": "execute_result"
    }
   ],
   "source": [
    "train_table_df_cor = (train_table_df.select(train_table_df.dev_uni_prox.cast('float'), \n",
    "                                            train_table_df.dev_prox.cast('float')))\n",
    "train_table_df_cor.stat.corr('dev_uni_prox', 'dev_prox')"
   ]
  },
  {
   "cell_type": "markdown",
   "metadata": {},
   "source": [
    "## Bar plot - count by product type"
   ]
  },
  {
   "cell_type": "code",
   "execution_count": 24,
   "metadata": {
    "collapsed": false
   },
   "outputs": [],
   "source": [
    "product_grouped_df = (train_table_df.join(product_table_df, 'product_id')\n",
    "                                    .select(product_table_df.product_name))\n",
    "product_grouped_pandas = product_grouped_df.groupBy('product_name').count().toPandas()\n",
    "product_grouped_pandas = product_grouped_pandas.sort_values(by='count', ascending=0)"
   ]
  },
  {
   "cell_type": "code",
   "execution_count": 20,
   "metadata": {
    "collapsed": true
   },
   "outputs": [],
   "source": [
    "%matplotlib inline\n",
    "import seaborn as sns"
   ]
  },
  {
   "cell_type": "code",
   "execution_count": 23,
   "metadata": {
    "collapsed": false
   },
   "outputs": [
    {
     "data": {
      "text/plain": [
       "[<matplotlib.text.Text at 0x7f26d37ad320>]"
      ]
     },
     "execution_count": 23,
     "metadata": {},
     "output_type": "execute_result"
    },
    {
     "data": {
      "image/png": "[encoded data removed]",
      "text/plain": [
       "<matplotlib.figure.Figure at 0x7f26d3559eb8>"
      ]
     },
     "metadata": {},
     "output_type": "display_data"
    }
   ],
   "source": [
    "sns.plt.title('Bar plot count by product type')\n",
    "plot = sns.barplot(x='count', y='product_name', data=product_grouped_pandas.head(25))\n",
    "plot.set(xlabel='Product Name')"
   ]
  },
  {
   "cell_type": "markdown",
   "metadata": {},
   "source": [
    "## Bar plot sale unitary today"
   ]
  },
  {
   "cell_type": "code",
   "execution_count": 25,
   "metadata": {
    "collapsed": true
   },
   "outputs": [],
   "source": [
    "sale_uni_grouped_pandas = train_table_df.groupBy('sale_uni_today').count().toPandas()\n",
    "sale_uni_grouped_pandas = sale_uni_grouped_pandas.sort_values(by='count', ascending=0)"
   ]
  },
  {
   "cell_type": "code",
   "execution_count": 41,
   "metadata": {
    "collapsed": false
   },
   "outputs": [
    {
     "data": {
      "text/html": [
       "<div>\n",
       "<table border=\"1\" class=\"dataframe\">\n",
       "  <thead>\n",
       "    <tr style=\"text-align: right;\">\n",
       "      <th></th>\n",
       "      <th>sale_uni_today</th>\n",
       "      <th>count</th>\n",
       "    </tr>\n",
       "  </thead>\n",
       "  <tbody>\n",
       "    <tr>\n",
       "      <th>519</th>\n",
       "      <td>2</td>\n",
       "      <td>15299482</td>\n",
       "    </tr>\n",
       "    <tr>\n",
       "      <th>511</th>\n",
       "      <td>1</td>\n",
       "      <td>13496679</td>\n",
       "    </tr>\n",
       "    <tr>\n",
       "      <th>528</th>\n",
       "      <td>3</td>\n",
       "      <td>9271143</td>\n",
       "    </tr>\n",
       "    <tr>\n",
       "      <th>538</th>\n",
       "      <td>4</td>\n",
       "      <td>7260737</td>\n",
       "    </tr>\n",
       "    <tr>\n",
       "      <th>547</th>\n",
       "      <td>5</td>\n",
       "      <td>5707842</td>\n",
       "    </tr>\n",
       "    <tr>\n",
       "      <th>558</th>\n",
       "      <td>6</td>\n",
       "      <td>4272687</td>\n",
       "    </tr>\n",
       "    <tr>\n",
       "      <th>999</th>\n",
       "      <td>10</td>\n",
       "      <td>2929543</td>\n",
       "    </tr>\n",
       "    <tr>\n",
       "      <th>576</th>\n",
       "      <td>8</td>\n",
       "      <td>2423855</td>\n",
       "    </tr>\n",
       "    <tr>\n",
       "      <th>567</th>\n",
       "      <td>7</td>\n",
       "      <td>1762233</td>\n",
       "    </tr>\n",
       "    <tr>\n",
       "      <th>585</th>\n",
       "      <td>9</td>\n",
       "      <td>1191273</td>\n",
       "    </tr>\n",
       "  </tbody>\n",
       "</table>\n",
       "</div>"
      ],
      "text/plain": [
       "     sale_uni_today     count\n",
       "519               2  15299482\n",
       "511               1  13496679\n",
       "528               3   9271143\n",
       "538               4   7260737\n",
       "547               5   5707842\n",
       "558               6   4272687\n",
       "999              10   2929543\n",
       "576               8   2423855\n",
       "567               7   1762233\n",
       "585               9   1191273"
      ]
     },
     "execution_count": 41,
     "metadata": {},
     "output_type": "execute_result"
    }
   ],
   "source": [
    "sale_uni_grouped_pandas.head(10)"
   ]
  },
  {
   "cell_type": "code",
   "execution_count": 40,
   "metadata": {
    "collapsed": false
   },
   "outputs": [
    {
     "data": {
      "text/plain": [
       "[<matplotlib.text.Text at 0x7f26c8858710>]"
      ]
     },
     "execution_count": 40,
     "metadata": {},
     "output_type": "execute_result"
    },
    {
     "data": {
      "image/png": "[encoded data removed]",
      "text/plain": [
       "<matplotlib.figure.Figure at 0x7f26c8808908>"
      ]
     },
     "metadata": {},
     "output_type": "display_data"
    }
   ],
   "source": [
    "sale_uni_grouped_pandas[['sale_uni_today']] = sale_uni_grouped_pandas[['sale_uni_today']].astype(int)\n",
    "sale_uni_grouped_pandas = sale_uni_grouped_pandas.sort_values(by='count', ascending=0)\n",
    "sns.plt.title('Bar plot count by product type')\n",
    "plot = sns.barplot(x='sale_uni_today', y='count', data=sale_uni_grouped_pandas.head(25))\n",
    "plot.set(xlabel='sale unitary today')\n",
    "plot.set(ylabel='Acum sale unitary today')"
   ]
  },
  {
   "cell_type": "markdown",
   "metadata": {},
   "source": [
    "## Sale unity today for \"Mantecadas Vainilla 4p 125g BIM 1240\" distribution"
   ]
  },
  {
   "cell_type": "code",
   "execution_count": 60,
   "metadata": {
    "collapsed": false
   },
   "outputs": [],
   "source": [
    "product_grouped_pandas = (train_table_df.join(product_table_df, 'product_id')\n",
    "                                        .select(product_table_df.product_name, train_table_df.sale_uni_today)\n",
    "                                        .filter(product_table_df.product_name == 'Mantecadas Vainilla 4p 125g BIM 1240')\n",
    "                                        .toPandas())"
   ]
  },
  {
   "cell_type": "code",
   "execution_count": 66,
   "metadata": {
    "collapsed": false
   },
   "outputs": [
    {
     "name": "stderr",
     "output_type": "stream",
     "text": [
      "/home/jasam/anaconda3/lib/python3.5/site-packages/statsmodels/nonparametric/kdetools.py:20: VisibleDeprecationWarning: using a non-integer number instead of an integer will result in an error in the future\n",
      "  y = X[:m/2+1] + np.r_[0,X[m/2+1:],0]*1j\n"
     ]
    },
    {
     "data": {
      "text/plain": [
       "<matplotlib.axes._subplots.AxesSubplot at 0x7f268c8a65f8>"
      ]
     },
     "execution_count": 66,
     "metadata": {},
     "output_type": "execute_result"
    },
    {
     "data": {
      "image/png": "[encoded data removed]",
      "text/plain": [
       "<matplotlib.figure.Figure at 0x7f26a6f33128>"
      ]
     },
     "metadata": {},
     "output_type": "display_data"
    }
   ],
   "source": [
    "#product_grouped_pandas\n",
    "product_grouped_pandas.loc[:,('sale_uni_today')] = product_grouped_pandas.sale_uni_today.astype(int)\n",
    "sns.plt.title('Sale unity today for \"Mantecadas Vainilla 4p 125g BIM 1240\" distribution')\n",
    "sns.distplot(product_grouped_pandas.sale_uni_today, hist=False, color=\"b\", kde_kws={\"shade\": True})"
   ]
  }
 ],
 "metadata": {
  "kernelspec": {
   "display_name": "Python 3",
   "language": "python",
   "name": "python3"
  },
  "language_info": {
   "codemirror_mode": {
    "name": "ipython",
    "version": 3
   },
   "file_extension": ".py",
   "mimetype": "text/x-python",
   "name": "python",
   "nbconvert_exporter": "python",
   "pygments_lexer": "ipython3",
   "version": "3.5.1"
  }
 },
 "nbformat": 4,
 "nbformat_minor": 0
}
