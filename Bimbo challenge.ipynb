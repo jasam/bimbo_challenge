{
 "cells": [
  {
   "cell_type": "markdown",
   "metadata": {},
   "source": [
    "# Grupo Bimbo Inventory Demand\n",
    "[Link](https://www.kaggle.com/c/grupo-bimbo-inventory-demand)"
   ]
  },
  {
   "cell_type": "markdown",
   "metadata": {},
   "source": [
    "## Describing \"producto_tabla\""
   ]
  },
  {
   "cell_type": "code",
   "execution_count": 11,
   "metadata": {
    "collapsed": false
   },
   "outputs": [
    {
     "name": "stdout",
     "output_type": "stream",
     "text": [
      "+-----------+----------------------------------------+\n",
      "|producto_id|nombre_producto                         |\n",
      "+-----------+----------------------------------------+\n",
      "|0          |NO IDENTIFICADO 0                       |\n",
      "|9          |Capuccino Moka 750g NES 9               |\n",
      "|41         |Bimbollos Ext sAjonjoli 6p 480g BIM 41  |\n",
      "|53         |Burritos Sincro 170g CU LON 53          |\n",
      "|72         |Div Tira Mini Doradita 4p 45g TR 72     |\n",
      "|73         |Pan Multigrano Linaza 540g BIM 73       |\n",
      "|98         |Tostado Integral 180g WON 98            |\n",
      "|99         |Pan Blanco 567g WON 99                  |\n",
      "|100        |Super Pan Bco Ajonjoli 680g SP WON 100  |\n",
      "|106        |Wonder 100pct mediano 475g WON 106      |\n",
      "|107        |Wonder 100pct gde 680g SP WON 107       |\n",
      "|108        |Baguette Precocida Cong 280g DH 108     |\n",
      "|109        |Pan Multicereal 475g WON 109            |\n",
      "|112        |Tostado Integral 180g WON 112           |\n",
      "|122        |Biscotel Receta Original 410g CU SUA 122|\n",
      "|123        |Super Bollos 5in 8p 540g WON 123        |\n",
      "|125        |Bollos 8p 450g WON 125                  |\n",
      "|131        |Bollos BK 4in 36p 1635g SL 131          |\n",
      "|132        |Bollos BK 5in 30p 1730g SL 132          |\n",
      "|134        |Bollos BK 4in 30p 1635g TIR SL 134      |\n",
      "+-----------+----------------------------------------+\n",
      "only showing top 20 rows\n",
      "\n"
     ]
    }
   ],
   "source": [
    "# Load producto_tabla data\n",
    "from pyspark.sql.types import StringType\n",
    "from pyspark.sql.functions import col\n",
    "\n",
    "path = '/home/jasam/Downloads/bimbo/producto_tabla.csv'\n",
    "product_table_rdd = (sc.textFile(path)\n",
    "                     .map(lambda line: line.split(\",\")))\n",
    "\n",
    "product_table_df = (product_table_rdd\n",
    "                    .toDF(['producto_id','nombre_producto']))\n",
    "#drop Header\n",
    "product_table_df = (product_table_df\n",
    "                    .filter(col('producto_id') != 'Producto_ID'))\n",
    "\n",
    "product_table_df.show(20, False)"
   ]
  },
  {
   "cell_type": "markdown",
   "metadata": {},
   "source": [
    "## Nulls in product_tabla"
   ]
  },
  {
   "cell_type": "code",
   "execution_count": 145,
   "metadata": {
    "collapsed": true
   },
   "outputs": [],
   "source": [
    "def count_null(col_name):\n",
    "    return sum(col(col_name).isNull().cast('integer')).alias(col_name)"
   ]
  },
  {
   "cell_type": "code",
   "execution_count": 146,
   "metadata": {
    "collapsed": false
   },
   "outputs": [
    {
     "name": "stdout",
     "output_type": "stream",
     "text": [
      "+----------+------------+\n",
      "|product_id|product_name|\n",
      "+----------+------------+\n",
      "|         0|           0|\n",
      "+----------+------------+\n",
      "\n"
     ]
    }
   ],
   "source": [
    "exprs = []\n",
    "for col_name in product_table_df.columns:\n",
    "    exprs.append(count_null(col_name))\n",
    "# Run the aggregation. The *exprs converts the list of expressions into\n",
    "# variable function arguments.\n",
    "product_table_df.agg(*exprs).show()"
   ]
  },
  {
   "cell_type": "markdown",
   "metadata": {},
   "source": [
    "## Count rows - producto_tabla"
   ]
  },
  {
   "cell_type": "code",
   "execution_count": 147,
   "metadata": {
    "collapsed": false
   },
   "outputs": [
    {
     "data": {
      "text/plain": [
       "'2,592'"
      ]
     },
     "execution_count": 147,
     "metadata": {},
     "output_type": "execute_result"
    }
   ],
   "source": [
    "format(product_table_df.count(), ',d')"
   ]
  },
  {
   "cell_type": "markdown",
   "metadata": {},
   "source": [
    "## Describing \"cliente_tabla\""
   ]
  },
  {
   "cell_type": "code",
   "execution_count": 2,
   "metadata": {
    "collapsed": false
   },
   "outputs": [
    {
     "name": "stdout",
     "output_type": "stream",
     "text": [
      "+-----------+---------------------------------------+\n",
      "|customer_id|customer_name                          |\n",
      "+-----------+---------------------------------------+\n",
      "|0          |SIN NOMBRE                             |\n",
      "|1          |OXXO XINANTECATL                       |\n",
      "|2          |SIN NOMBRE                             |\n",
      "|3          |EL MORENO                              |\n",
      "|4          |SDN SER  DE ALIM  CUERPO SA CIA  DE INT|\n",
      "|4          |SDN SER DE ALIM CUERPO SA CIA DE INT   |\n",
      "|5          |LA VAQUITA                             |\n",
      "|6          |LUPITA                                 |\n",
      "|7          |I M EL GUERO                           |\n",
      "|8          |MINI SUPER LOS LUPES                   |\n",
      "|9          |SUPER KOMPRAS MICRO COLON              |\n",
      "|10         |LONJA MERCANTIL DE TODO                |\n",
      "|11         |FARMACIA NICOLAS SAN JUAN              |\n",
      "|12         |PAPELERIA CATALA                       |\n",
      "|13         |ELENA                                  |\n",
      "|14         |CASA TRINO                             |\n",
      "|15         |FMA035947 BIMBO SA DE CV               |\n",
      "|16         |JOYS                                   |\n",
      "|17         |DE MARCO                               |\n",
      "|18         |LUPES II                               |\n",
      "+-----------+---------------------------------------+\n",
      "only showing top 20 rows\n",
      "\n"
     ]
    }
   ],
   "source": [
    "# Load producto_tabla data\n",
    "from pyspark.sql.types import StringType\n",
    "from pyspark.sql.functions import col\n",
    "\n",
    "path = '/home/jasam/Downloads/bimbo/cliente_tabla.csv'\n",
    "customer_table_rdd = (sc.textFile(path)\n",
    "                      .map(lambda line: line.split(\",\")))\n",
    "\n",
    "customer_table_df = (customer_table_rdd\n",
    "                     .toDF(['customer_id','customer_name']))\n",
    "#drop Header\n",
    "customer_table_df = (customer_table_df\n",
    "                     .filter(col('customer_id') != 'Cliente_ID'))\n",
    "\n",
    "customer_table_df.show(20, False)"
   ]
  },
  {
   "cell_type": "markdown",
   "metadata": {},
   "source": [
    "## Nulls in customer_table_df"
   ]
  },
  {
   "cell_type": "code",
   "execution_count": 149,
   "metadata": {
    "collapsed": false
   },
   "outputs": [
    {
     "name": "stdout",
     "output_type": "stream",
     "text": [
      "+-----------+-------------+\n",
      "|customer_id|customer_name|\n",
      "+-----------+-------------+\n",
      "|          0|            0|\n",
      "+-----------+-------------+\n",
      "\n"
     ]
    }
   ],
   "source": [
    "exprs = []\n",
    "for col_name in customer_table_df.columns:\n",
    "    exprs.append(count_null(col_name))\n",
    "# Run the aggregation. The *exprs converts the list of expressions into\n",
    "# variable function arguments.\n",
    "customer_table_df.agg(*exprs).show()"
   ]
  },
  {
   "cell_type": "markdown",
   "metadata": {},
   "source": [
    "## Count rows - cliente_tabla"
   ]
  },
  {
   "cell_type": "code",
   "execution_count": 150,
   "metadata": {
    "collapsed": false
   },
   "outputs": [
    {
     "data": {
      "text/plain": [
       "'935,362'"
      ]
     },
     "execution_count": 150,
     "metadata": {},
     "output_type": "execute_result"
    }
   ],
   "source": [
    "format(customer_table_df.count(), ',d')"
   ]
  },
  {
   "cell_type": "markdown",
   "metadata": {},
   "source": [
    "## Describing \"town_state\""
   ]
  },
  {
   "cell_type": "code",
   "execution_count": 151,
   "metadata": {
    "collapsed": false
   },
   "outputs": [
    {
     "name": "stdout",
     "output_type": "stream",
     "text": [
      "+---------+-----------------------+----------------+\n",
      "|agency_id|town                   |state           |\n",
      "+---------+-----------------------+----------------+\n",
      "|1110     |2008 AG. LAGO FILT     |\"MÉXICO D.F.\"   |\n",
      "|1111     |2002 AG. AZCAPOTZALCO  |\"MÉXICO D.F.\"   |\n",
      "|1112     |2004 AG. CUAUTITLAN    |ESTADO DE MÉXICO|\n",
      "|1113     |2008 AG. LAGO FILT     |\"MÉXICO D.F.\"   |\n",
      "|1114     |2029 AG.IZTAPALAPA 2   |\"MÉXICO D.F.\"   |\n",
      "|1116     |2011 AG. SAN ANTONIO   |\"MÉXICO D.F.\"   |\n",
      "|1117     |2001 AG. ATIZAPAN      |ESTADO DE MÉXICO|\n",
      "|1118     |2007 AG. LA VILLA      |\"MÉXICO D.F.\"   |\n",
      "|1119     |2013 AG. MEGA NAUCALPAN|ESTADO DE MÉXICO|\n",
      "|1120     |2018 AG. TEPALCATES 2  |\"MÉXICO D.F.\"   |\n",
      "|1121     |2016 AG. SAN LORENZO   |\"MÉXICO D.F.\"   |\n",
      "|1122     |2019 AG. XALOSTOC      |ESTADO DE MÉXICO|\n",
      "|1123     |2094 CHALCO_BM         |ESTADO DE MÉXICO|\n",
      "|1124     |2021 AG. XOCHIMILCO 2  |\"MÉXICO D.F.\"   |\n",
      "|1126     |2017 AG. SANTA CLARA   |ESTADO DE MÉXICO|\n",
      "|1127     |2003 AG. COACALCO      |ESTADO DE MÉXICO|\n",
      "|1129     |2011 AG. SAN ANTONIO   |\"MÉXICO D.F.\"   |\n",
      "|1130     |2010 AG. LOS REYES     |ESTADO DE MÉXICO|\n",
      "|1137     |2014 AG. NEZA          |ESTADO DE MÉXICO|\n",
      "|1138     |2015 AG. ROJO GOMEZ    |\"MÉXICO D.F.\"   |\n",
      "+---------+-----------------------+----------------+\n",
      "only showing top 20 rows\n",
      "\n"
     ]
    }
   ],
   "source": [
    "# Load producto_tabla data\n",
    "from pyspark.sql.types import StringType\n",
    "from pyspark.sql.functions import col\n",
    "\n",
    "path = '/home/jasam/Downloads/bimbo/town_state.csv'\n",
    "\n",
    "# Clean data\n",
    "town_state_table_rdd = (sc.textFile(path)\n",
    "                        .map(lambda line: line.replace('MÉXICO,','MÉXICO')))\n",
    "\n",
    "town_state_table_rdd = (town_state_table_rdd\n",
    "                        .map(lambda line: line.split(\",\")))\n",
    "town_state_table_df = (town_state_table_rdd\n",
    "                       .toDF(['agency_id','town','state']))\n",
    "#drop Header\n",
    "town_state_table_df = (town_state_table_df\n",
    "                       .filter(col('agency_id') != 'Agencia_ID'))\n",
    "\n",
    "town_state_table_df.show(20, False)"
   ]
  },
  {
   "cell_type": "markdown",
   "metadata": {},
   "source": [
    "## Nulls in town_state_table_df"
   ]
  },
  {
   "cell_type": "code",
   "execution_count": 152,
   "metadata": {
    "collapsed": false
   },
   "outputs": [
    {
     "name": "stdout",
     "output_type": "stream",
     "text": [
      "+---------+----+-----+\n",
      "|agency_id|town|state|\n",
      "+---------+----+-----+\n",
      "|        0|   0|    0|\n",
      "+---------+----+-----+\n",
      "\n"
     ]
    }
   ],
   "source": [
    "exprs = []\n",
    "for col_name in town_state_table_df.columns:\n",
    "    exprs.append(count_null(col_name))\n",
    "# Run the aggregation. The *exprs converts the list of expressions into\n",
    "# variable function arguments.\n",
    "town_state_table_df.agg(*exprs).show()"
   ]
  },
  {
   "cell_type": "markdown",
   "metadata": {},
   "source": [
    "## Count rows - town_state"
   ]
  },
  {
   "cell_type": "code",
   "execution_count": 153,
   "metadata": {
    "collapsed": false
   },
   "outputs": [
    {
     "data": {
      "text/plain": [
       "'790'"
      ]
     },
     "execution_count": 153,
     "metadata": {},
     "output_type": "execute_result"
    }
   ],
   "source": [
    "format(town_state_table_df.count(), ',d')"
   ]
  },
  {
   "cell_type": "markdown",
   "metadata": {},
   "source": [
    "## Group by state - count  - town_state table"
   ]
  },
  {
   "cell_type": "code",
   "execution_count": 154,
   "metadata": {
    "collapsed": false
   },
   "outputs": [
    {
     "name": "stdout",
     "output_type": "stream",
     "text": [
      "+--------------------+-----+\n",
      "|               state|count|\n",
      "+--------------------+-----+\n",
      "|    ESTADO DE MÉXICO|   71|\n",
      "|       \"MÉXICO D.F.\"|   65|\n",
      "|             JALISCO|   55|\n",
      "|            VERACRUZ|   45|\n",
      "|          GUANAJUATO|   39|\n",
      "|              SONORA|   34|\n",
      "|          NUEVO LEÓN|   34|\n",
      "|              PUEBLA|   34|\n",
      "|           MICHOACÁN|   33|\n",
      "|          TAMAULIPAS|   32|\n",
      "|BAJA CALIFORNIA N...|   32|\n",
      "|            COAHUILA|   29|\n",
      "|           CHIHUAHUA|   25|\n",
      "|             SINALOA|   23|\n",
      "|              OAXACA|   22|\n",
      "|            GUERRERO|   21|\n",
      "|             HIDALGO|   21|\n",
      "| BAJA CALIFORNIA SUR|   17|\n",
      "|             CHIAPAS|   16|\n",
      "|     SAN LUIS POTOSÍ|   15|\n",
      "+--------------------+-----+\n",
      "only showing top 20 rows\n",
      "\n"
     ]
    }
   ],
   "source": [
    "(town_state_table_df.groupBy('state')\n",
    "                    .count()\n",
    "                    .orderBy(col('count').desc())\n",
    "                    .show(20))"
   ]
  },
  {
   "cell_type": "markdown",
   "metadata": {},
   "source": [
    "## Describing \"train data\""
   ]
  },
  {
   "cell_type": "code",
   "execution_count": 17,
   "metadata": {
    "collapsed": false
   },
   "outputs": [
    {
     "name": "stdout",
     "output_type": "stream",
     "text": [
      "74,180,464\n",
      "--- 8.440026998519897 seconds ---\n"
     ]
    }
   ],
   "source": [
    "# Previously csv transformed into parquet files (improve perfomance 100x).\n",
    "import time\n",
    "start_time = time.time()\n",
    "path = '/data/train_parquet/0_0_0.parquet'\n",
    "train0_df = sqlContext.read.load(path)\n",
    "path = '/data/train_parquet/0_0_1.parquet'\n",
    "train1_df = sqlContext.read.load(path)\n",
    "train_df = train0_df.unionAll(train1_df)\n",
    "train_df = (train_df.filter(col('Semana') != 'Semana'))\n",
    "print(format(train_df.count(), ',d'))\n",
    "print(\"--- %s seconds ---\" % (time.time() - start_time))"
   ]
  },
  {
   "cell_type": "code",
   "execution_count": 3,
   "metadata": {
    "collapsed": false
   },
   "outputs": [
    {
     "name": "stdout",
     "output_type": "stream",
     "text": [
      "+----+---------+-------+---------+-----------+----------+--------------+----------+------------+--------+----------------+\n",
      "|week|agency_id|channel|route_sak|customer_id|product_id|sale_uni_today|sale_today|dev_uni_prox|dev_prox|demand_uni_equil|\n",
      "+----+---------+-------+---------+-----------+----------+--------------+----------+------------+--------+----------------+\n",
      "|3   |1110     |7      |3301     |15766      |1212      |3.0           |25.14     |0.0         |0.0     |3.0             |\n",
      "|3   |1110     |7      |3301     |15766      |1216      |4.0           |33.52     |0.0         |0.0     |4.0             |\n",
      "|3   |1110     |7      |3301     |15766      |1238      |4.0           |39.32     |0.0         |0.0     |4.0             |\n",
      "|3   |1110     |7      |3301     |15766      |1240      |4.0           |33.52     |0.0         |0.0     |4.0             |\n",
      "|3   |1110     |7      |3301     |15766      |1242      |3.0           |22.92     |0.0         |0.0     |3.0             |\n",
      "|3   |1110     |7      |3301     |15766      |1250      |5.0           |38.2      |0.0         |0.0     |5.0             |\n",
      "|3   |1110     |7      |3301     |15766      |1309      |3.0           |20.28     |0.0         |0.0     |3.0             |\n",
      "|3   |1110     |7      |3301     |15766      |3894      |6.0           |56.1      |0.0         |0.0     |6.0             |\n",
      "|3   |1110     |7      |3301     |15766      |4085      |4.0           |24.6      |0.0         |0.0     |4.0             |\n",
      "|3   |1110     |7      |3301     |15766      |5310      |6.0           |31.68     |0.0         |0.0     |6.0             |\n",
      "+----+---------+-------+---------+-----------+----------+--------------+----------+------------+--------+----------------+\n",
      "only showing top 10 rows\n",
      "\n"
     ]
    }
   ],
   "source": [
    "# Load producto_tabla data\n",
    "from pyspark.sql.types import StringType\n",
    "from pyspark.sql.functions import col\n",
    "\n",
    "path = '/data/train.csv'\n",
    "train_table_rdd = (sc.textFile(path)\n",
    "                   .map(lambda line: line.split(\",\")))\n",
    "columns = ['week','agency_id','channel','route_sak','customer_id',\n",
    "           'product_id','sale_uni_today','sale_today','dev_uni_prox',\n",
    "           'dev_prox','demand_uni_equil']\n",
    "train_table_df = (train_table_rdd\n",
    "                  .toDF(columns))\n",
    "\n",
    "#drop Header\n",
    "train_table_df = (train_table_df\n",
    "                  .filter(col('week') != 'Semana'))\n",
    "#cast data\n",
    "train_table_df = train_table_df.select(train_table_df.week,\n",
    "                                       train_table_df.agency_id,\n",
    "                                       train_table_df.channel,\n",
    "                                       train_table_df.route_sak,\n",
    "                                       train_table_df.customer_id,\n",
    "                                       train_table_df.product_id,\n",
    "                                       train_table_df.sale_uni_today.cast('float'),\n",
    "                                       train_table_df.sale_today.cast('float'),\n",
    "                                       train_table_df.dev_uni_prox.cast('float'),\n",
    "                                       train_table_df.dev_prox.cast('float'),\n",
    "                                       train_table_df.demand_uni_equil.cast('float'))\n",
    "train_table_df.show(10, False)"
   ]
  },
  {
   "cell_type": "markdown",
   "metadata": {},
   "source": [
    "## Schema train data"
   ]
  },
  {
   "cell_type": "code",
   "execution_count": 156,
   "metadata": {
    "collapsed": false
   },
   "outputs": [
    {
     "name": "stdout",
     "output_type": "stream",
     "text": [
      "root\n",
      " |-- week: string (nullable = true)\n",
      " |-- agency_id: string (nullable = true)\n",
      " |-- channel: string (nullable = true)\n",
      " |-- route_sak: string (nullable = true)\n",
      " |-- customer_id: string (nullable = true)\n",
      " |-- product_id: string (nullable = true)\n",
      " |-- sale_uni_today: float (nullable = true)\n",
      " |-- sale_today: float (nullable = true)\n",
      " |-- dev_uni_prox: float (nullable = true)\n",
      " |-- dev_prox: float (nullable = true)\n",
      " |-- demand_uni_equil: float (nullable = true)\n",
      "\n"
     ]
    }
   ],
   "source": [
    "train_table_df.printSchema()"
   ]
  },
  {
   "cell_type": "markdown",
   "metadata": {},
   "source": [
    "## Nulls in train_table"
   ]
  },
  {
   "cell_type": "code",
   "execution_count": 157,
   "metadata": {
    "collapsed": false
   },
   "outputs": [
    {
     "name": "stdout",
     "output_type": "stream",
     "text": [
      "+----+---------+-------+---------+-----------+----------+--------------+----------+------------+--------+----------------+\n",
      "|week|agency_id|channel|route_sak|customer_id|product_id|sale_uni_today|sale_today|dev_uni_prox|dev_prox|demand_uni_equil|\n",
      "+----+---------+-------+---------+-----------+----------+--------------+----------+------------+--------+----------------+\n",
      "|   0|        0|      0|        0|          0|         0|             0|         0|           0|       0|               0|\n",
      "+----+---------+-------+---------+-----------+----------+--------------+----------+------------+--------+----------------+\n",
      "\n"
     ]
    }
   ],
   "source": [
    "exprs = []\n",
    "for col_name in train_table_df.columns:\n",
    "    exprs.append(count_null(col_name))\n",
    "# Run the aggregation. The *exprs converts the list of expressions into\n",
    "# variable function arguments.\n",
    "train_table_df.agg(*exprs).show()"
   ]
  },
  {
   "cell_type": "markdown",
   "metadata": {},
   "source": [
    "## Count rows - train_table"
   ]
  },
  {
   "cell_type": "code",
   "execution_count": 4,
   "metadata": {
    "collapsed": false
   },
   "outputs": [
    {
     "name": "stdout",
     "output_type": "stream",
     "text": [
      "--- 200.9337179660797 seconds ---\n"
     ]
    }
   ],
   "source": [
    "start_time = time.time()\n",
    "format(train_table_df.count(), ',d')\n",
    "print(\"--- %s seconds ---\" % (time.time() - start_time))"
   ]
  },
  {
   "cell_type": "markdown",
   "metadata": {},
   "source": [
    "## Descriptive Statistics - train_table"
   ]
  },
  {
   "cell_type": "code",
   "execution_count": 10,
   "metadata": {
    "collapsed": false
   },
   "outputs": [
    {
     "name": "stdout",
     "output_type": "stream",
     "text": [
      "+-------+-----------------+-----------------+------------------+------------------+------------------+\n",
      "|summary|    venta_uni_hoy|        venta_hoy|   dev_uni_proxima|       dev_proxima| demanda_uni_equil|\n",
      "+-------+-----------------+-----------------+------------------+------------------+------------------+\n",
      "|  count|         74180464|         74180464|          74180464|          74180464|          74180464|\n",
      "|   mean|7.310163468376256|68.54452259084866|0.1302576646056029|1.2432480515376843|7.2245640038056385|\n",
      "| stddev|21.96733684000345| 338.979515852164|29.323204167593044| 39.21552258149022| 21.77119294902963|\n",
      "|    min|                0|              0.0|                 0|               0.0|                 0|\n",
      "|    max|              999|           9999.2|                99|            999.92|               999|\n",
      "+-------+-----------------+-----------------+------------------+------------------+------------------+\n",
      "\n"
     ]
    }
   ],
   "source": [
    "train_df.describe('venta_uni_hoy', 'venta_hoy', 'dev_uni_proxima', 'dev_proxima', 'demanda_uni_equil').show()"
   ]
  },
  {
   "cell_type": "markdown",
   "metadata": {},
   "source": [
    "## Descriptive Statistics - \"correlation\" between unitary sales  and sales"
   ]
  },
  {
   "cell_type": "code",
   "execution_count": 160,
   "metadata": {
    "collapsed": false
   },
   "outputs": [
    {
     "data": {
      "text/plain": [
       "0.7336777290062534"
      ]
     },
     "execution_count": 160,
     "metadata": {},
     "output_type": "execute_result"
    }
   ],
   "source": [
    "train_table_df_cor = (train_table_df.select(train_table_df.sale_uni_today.cast('float'), \n",
    "                                            train_table_df.sale_today.cast('float')))\n",
    "train_table_df_cor.stat.corr('sale_uni_today', 'sale_today')"
   ]
  },
  {
   "cell_type": "markdown",
   "metadata": {},
   "source": [
    "## Descriptive Statistics - \"correlation\" between dev_uni_prox  and dev_prox"
   ]
  },
  {
   "cell_type": "code",
   "execution_count": 161,
   "metadata": {
    "collapsed": false
   },
   "outputs": [
    {
     "data": {
      "text/plain": [
       "0.1294211664137144"
      ]
     },
     "execution_count": 161,
     "metadata": {},
     "output_type": "execute_result"
    }
   ],
   "source": [
    "train_table_df_cor = (train_table_df.select(train_table_df.dev_uni_prox.cast('float'), \n",
    "                                            train_table_df.dev_prox.cast('float')))\n",
    "train_table_df_cor.stat.corr('dev_uni_prox', 'dev_prox')"
   ]
  },
  {
   "cell_type": "markdown",
   "metadata": {},
   "source": [
    "## Bar plot - count by product type"
   ]
  },
  {
   "cell_type": "code",
   "execution_count": 162,
   "metadata": {
    "collapsed": false
   },
   "outputs": [
    {
     "data": {
      "text/plain": [
       "DataFrame[week: string, agency_id: string, channel: string, route_sak: string, customer_id: string, product_id: string, sale_uni_today: float, sale_today: float, dev_uni_prox: float, dev_prox: float, demand_uni_equil: float]"
      ]
     },
     "execution_count": 162,
     "metadata": {},
     "output_type": "execute_result"
    }
   ],
   "source": [
    "train_table_df.select('*')"
   ]
  },
  {
   "cell_type": "code",
   "execution_count": 12,
   "metadata": {
    "collapsed": false
   },
   "outputs": [],
   "source": [
    "product_grouped_df = (train_df.join(product_table_df, 'producto_id')\n",
    "                                    .select(product_table_df.nombre_producto))\n",
    "product_grouped_pandas = product_grouped_df.groupBy('nombre_producto').count().toPandas()\n",
    "product_grouped_pandas = product_grouped_pandas.sort_values(by='count', ascending=0)"
   ]
  },
  {
   "cell_type": "code",
   "execution_count": 13,
   "metadata": {
    "collapsed": true
   },
   "outputs": [],
   "source": [
    "%matplotlib inline\n",
    "import seaborn as sns"
   ]
  },
  {
   "cell_type": "code",
   "execution_count": 14,
   "metadata": {
    "collapsed": false
   },
   "outputs": [
    {
     "data": {
      "text/plain": [
       "[<matplotlib.text.Text at 0x7fe0a28ce5f8>]"
      ]
     },
     "execution_count": 14,
     "metadata": {},
     "output_type": "execute_result"
    },
    {
     "data": {
      "image/png": "[encoded data removed]",
      "text/plain": [
       "<matplotlib.figure.Figure at 0x7fe0a2d859b0>"
      ]
     },
     "metadata": {},
     "output_type": "display_data"
    }
   ],
   "source": [
    "sns.plt.title('Bar plot count by product type')\n",
    "plot = sns.barplot(x='count', y='nombre_producto', data=product_grouped_pandas.head(25))\n",
    "plot.set(xlabel='Product Name')"
   ]
  },
  {
   "cell_type": "markdown",
   "metadata": {},
   "source": [
    "## Bar plot sale unitary today"
   ]
  },
  {
   "cell_type": "code",
   "execution_count": 166,
   "metadata": {
    "collapsed": true
   },
   "outputs": [],
   "source": [
    "sale_uni_grouped_pandas = train_table_df.groupBy('sale_uni_today').count().toPandas()\n",
    "sale_uni_grouped_pandas = sale_uni_grouped_pandas.sort_values(by='count', ascending=0)"
   ]
  },
  {
   "cell_type": "code",
   "execution_count": 167,
   "metadata": {
    "collapsed": false
   },
   "outputs": [
    {
     "data": {
      "text/html": [
       "<div>\n",
       "<table border=\"1\" class=\"dataframe\">\n",
       "  <thead>\n",
       "    <tr style=\"text-align: right;\">\n",
       "      <th></th>\n",
       "      <th>sale_uni_today</th>\n",
       "      <th>count</th>\n",
       "    </tr>\n",
       "  </thead>\n",
       "  <tbody>\n",
       "    <tr>\n",
       "      <th>2036</th>\n",
       "      <td>2.0</td>\n",
       "      <td>15299482</td>\n",
       "    </tr>\n",
       "    <tr>\n",
       "      <th>1935</th>\n",
       "      <td>1.0</td>\n",
       "      <td>13496679</td>\n",
       "    </tr>\n",
       "    <tr>\n",
       "      <th>1023</th>\n",
       "      <td>3.0</td>\n",
       "      <td>9271143</td>\n",
       "    </tr>\n",
       "    <tr>\n",
       "      <th>0</th>\n",
       "      <td>4.0</td>\n",
       "      <td>7260737</td>\n",
       "    </tr>\n",
       "    <tr>\n",
       "      <th>1605</th>\n",
       "      <td>5.0</td>\n",
       "      <td>5707842</td>\n",
       "    </tr>\n",
       "    <tr>\n",
       "      <th>1108</th>\n",
       "      <td>6.0</td>\n",
       "      <td>4272687</td>\n",
       "    </tr>\n",
       "    <tr>\n",
       "      <th>1685</th>\n",
       "      <td>10.0</td>\n",
       "      <td>2929543</td>\n",
       "    </tr>\n",
       "    <tr>\n",
       "      <th>77</th>\n",
       "      <td>8.0</td>\n",
       "      <td>2423855</td>\n",
       "    </tr>\n",
       "    <tr>\n",
       "      <th>577</th>\n",
       "      <td>7.0</td>\n",
       "      <td>1762233</td>\n",
       "    </tr>\n",
       "    <tr>\n",
       "      <th>1936</th>\n",
       "      <td>9.0</td>\n",
       "      <td>1191273</td>\n",
       "    </tr>\n",
       "  </tbody>\n",
       "</table>\n",
       "</div>"
      ],
      "text/plain": [
       "      sale_uni_today     count\n",
       "2036             2.0  15299482\n",
       "1935             1.0  13496679\n",
       "1023             3.0   9271143\n",
       "0                4.0   7260737\n",
       "1605             5.0   5707842\n",
       "1108             6.0   4272687\n",
       "1685            10.0   2929543\n",
       "77               8.0   2423855\n",
       "577              7.0   1762233\n",
       "1936             9.0   1191273"
      ]
     },
     "execution_count": 167,
     "metadata": {},
     "output_type": "execute_result"
    }
   ],
   "source": [
    "sale_uni_grouped_pandas.head(10)"
   ]
  },
  {
   "cell_type": "code",
   "execution_count": 168,
   "metadata": {
    "collapsed": false
   },
   "outputs": [
    {
     "data": {
      "text/plain": [
       "[<matplotlib.text.Text at 0x7f26a33a0f28>]"
      ]
     },
     "execution_count": 168,
     "metadata": {},
     "output_type": "execute_result"
    },
    {
     "data": {
      "image/png": "[encoded data removed]",
      "text/plain": [
       "<matplotlib.figure.Figure at 0x7f26b4368e10>"
      ]
     },
     "metadata": {},
     "output_type": "display_data"
    }
   ],
   "source": [
    "sale_uni_grouped_pandas[['sale_uni_today']] = sale_uni_grouped_pandas[['sale_uni_today']].astype(int)\n",
    "sale_uni_grouped_pandas = sale_uni_grouped_pandas.sort_values(by='count', ascending=0)\n",
    "sns.plt.title('Bar plot count by product type')\n",
    "plot = sns.barplot(x='sale_uni_today', y='count', data=sale_uni_grouped_pandas.head(25))\n",
    "plot.set(xlabel='sale unitary today')\n",
    "plot.set(ylabel='Acum sale unitary today')"
   ]
  },
  {
   "cell_type": "markdown",
   "metadata": {},
   "source": [
    "## Sale unity today for \"Mantecadas Vainilla 4p 125g BIM 1240\" distribution"
   ]
  },
  {
   "cell_type": "code",
   "execution_count": 169,
   "metadata": {
    "collapsed": false
   },
   "outputs": [],
   "source": [
    "product_grouped_pandas = (train_table_df.join(product_table_df, 'product_id')\n",
    "                                        .select(product_table_df.product_name, train_table_df.sale_uni_today)\n",
    "                                        .filter(product_table_df.product_name == 'Mantecadas Vainilla 4p 125g BIM 1240')\n",
    "                                        .toPandas())"
   ]
  },
  {
   "cell_type": "code",
   "execution_count": 170,
   "metadata": {
    "collapsed": false
   },
   "outputs": [
    {
     "name": "stderr",
     "output_type": "stream",
     "text": [
      "/home/jasam/anaconda3/lib/python3.5/site-packages/statsmodels/nonparametric/kdetools.py:20: VisibleDeprecationWarning: using a non-integer number instead of an integer will result in an error in the future\n",
      "  y = X[:m/2+1] + np.r_[0,X[m/2+1:],0]*1j\n"
     ]
    },
    {
     "data": {
      "text/plain": [
       "<matplotlib.axes._subplots.AxesSubplot at 0x7f26ae816710>"
      ]
     },
     "execution_count": 170,
     "metadata": {},
     "output_type": "execute_result"
    },
    {
     "data": {
      "image/png": "[encoded data removed]",
      "text/plain": [
       "<matplotlib.figure.Figure at 0x7f26ae82aa20>"
      ]
     },
     "metadata": {},
     "output_type": "display_data"
    }
   ],
   "source": [
    "#product_grouped_pandas\n",
    "product_grouped_pandas.loc[:,('sale_uni_today')] = product_grouped_pandas.sale_uni_today.astype(int)\n",
    "sns.plt.title('Sale unity today for \"Mantecadas Vainilla 4p 125g BIM 1240\" distribution')\n",
    "sns.distplot(product_grouped_pandas.sale_uni_today, hist=False, color=\"b\", kde_kws={\"shade\": True})"
   ]
  },
  {
   "cell_type": "markdown",
   "metadata": {},
   "source": [
    "## Clientes por registros"
   ]
  },
  {
   "cell_type": "code",
   "execution_count": 38,
   "metadata": {
    "collapsed": false
   },
   "outputs": [],
   "source": [
    "from pyspark.sql.functions import sum\n",
    "customer_grouped_df = (train_table_df.join(customer_table_df, 'customer_id')\n",
    "                                     .select(customer_table_df.customer_name, train_table_df.sale_uni_today)\n",
    "                                     .groupBy('customer_name').agg(sum(train_table_df.sale_uni_today))\n",
    "                                     )\n",
    "\n",
    "customer_grouped_pandas = customer_grouped_df.toPandas()"
   ]
  },
  {
   "cell_type": "code",
   "execution_count": 44,
   "metadata": {
    "collapsed": false
   },
   "outputs": [
    {
     "data": {
      "text/html": [
       "<div>\n",
       "<table border=\"1\" class=\"dataframe\">\n",
       "  <thead>\n",
       "    <tr style=\"text-align: right;\">\n",
       "      <th></th>\n",
       "      <th>customer_name</th>\n",
       "      <th>sum(sale_uni_today)</th>\n",
       "    </tr>\n",
       "  </thead>\n",
       "  <tbody>\n",
       "    <tr>\n",
       "      <th>42189</th>\n",
       "      <td>NO IDENTIFICADO</td>\n",
       "      <td>83656044.0</td>\n",
       "    </tr>\n",
       "    <tr>\n",
       "      <th>68501</th>\n",
       "      <td>PUEBLA REMISION</td>\n",
       "      <td>18650001.0</td>\n",
       "    </tr>\n",
       "    <tr>\n",
       "      <th>25545</th>\n",
       "      <td>LUPITA</td>\n",
       "      <td>2439982.0</td>\n",
       "    </tr>\n",
       "    <tr>\n",
       "      <th>141063</th>\n",
       "      <td>MARY</td>\n",
       "      <td>1430161.0</td>\n",
       "    </tr>\n",
       "    <tr>\n",
       "      <th>42176</th>\n",
       "      <td>LA PASADITA</td>\n",
       "      <td>1060571.0</td>\n",
       "    </tr>\n",
       "    <tr>\n",
       "      <th>182127</th>\n",
       "      <td>QUERETARO DE ARTEAGA REMISION</td>\n",
       "      <td>909671.0</td>\n",
       "    </tr>\n",
       "    <tr>\n",
       "      <th>186439</th>\n",
       "      <td>LA VENTANITA</td>\n",
       "      <td>813362.0</td>\n",
       "    </tr>\n",
       "    <tr>\n",
       "      <th>200132</th>\n",
       "      <td>LA GUADALUPANA</td>\n",
       "      <td>754723.0</td>\n",
       "    </tr>\n",
       "    <tr>\n",
       "      <th>148571</th>\n",
       "      <td>LA ESPERANZA</td>\n",
       "      <td>669800.0</td>\n",
       "    </tr>\n",
       "    <tr>\n",
       "      <th>254901</th>\n",
       "      <td>ALEX</td>\n",
       "      <td>665505.0</td>\n",
       "    </tr>\n",
       "    <tr>\n",
       "      <th>194053</th>\n",
       "      <td>PATY</td>\n",
       "      <td>642187.0</td>\n",
       "    </tr>\n",
       "    <tr>\n",
       "      <th>77176</th>\n",
       "      <td>GABY</td>\n",
       "      <td>635251.0</td>\n",
       "    </tr>\n",
       "    <tr>\n",
       "      <th>201588</th>\n",
       "      <td>ROSY</td>\n",
       "      <td>607890.0</td>\n",
       "    </tr>\n",
       "    <tr>\n",
       "      <th>147100</th>\n",
       "      <td>LA CHIQUITA</td>\n",
       "      <td>587587.0</td>\n",
       "    </tr>\n",
       "    <tr>\n",
       "      <th>225905</th>\n",
       "      <td>LA PROVIDENCIA</td>\n",
       "      <td>583041.0</td>\n",
       "    </tr>\n",
       "    <tr>\n",
       "      <th>75648</th>\n",
       "      <td>DANY</td>\n",
       "      <td>573405.0</td>\n",
       "    </tr>\n",
       "    <tr>\n",
       "      <th>247212</th>\n",
       "      <td>HERNANDEZ</td>\n",
       "      <td>555898.0</td>\n",
       "    </tr>\n",
       "    <tr>\n",
       "      <th>177295</th>\n",
       "      <td>GARCIA</td>\n",
       "      <td>529954.0</td>\n",
       "    </tr>\n",
       "    <tr>\n",
       "      <th>184884</th>\n",
       "      <td>MARTINEZ</td>\n",
       "      <td>523666.0</td>\n",
       "    </tr>\n",
       "    <tr>\n",
       "      <th>52879</th>\n",
       "      <td>LA ESTRELLA</td>\n",
       "      <td>520624.0</td>\n",
       "    </tr>\n",
       "    <tr>\n",
       "      <th>13555</th>\n",
       "      <td>SAN JOSE</td>\n",
       "      <td>501465.0</td>\n",
       "    </tr>\n",
       "    <tr>\n",
       "      <th>200001</th>\n",
       "      <td>JALISCO REMISION</td>\n",
       "      <td>490617.0</td>\n",
       "    </tr>\n",
       "    <tr>\n",
       "      <th>225884</th>\n",
       "      <td>LA ESCONDIDA</td>\n",
       "      <td>490114.0</td>\n",
       "    </tr>\n",
       "    <tr>\n",
       "      <th>207668</th>\n",
       "      <td>LA ESQUINA</td>\n",
       "      <td>486080.0</td>\n",
       "    </tr>\n",
       "    <tr>\n",
       "      <th>59006</th>\n",
       "      <td>DIANA</td>\n",
       "      <td>476377.0</td>\n",
       "    </tr>\n",
       "  </tbody>\n",
       "</table>\n",
       "</div>"
      ],
      "text/plain": [
       "                        customer_name  sum(sale_uni_today)\n",
       "42189                 NO IDENTIFICADO           83656044.0\n",
       "68501                 PUEBLA REMISION           18650001.0\n",
       "25545                          LUPITA            2439982.0\n",
       "141063                           MARY            1430161.0\n",
       "42176                     LA PASADITA            1060571.0\n",
       "182127  QUERETARO DE ARTEAGA REMISION             909671.0\n",
       "186439                   LA VENTANITA             813362.0\n",
       "200132                 LA GUADALUPANA             754723.0\n",
       "148571                   LA ESPERANZA             669800.0\n",
       "254901                           ALEX             665505.0\n",
       "194053                           PATY             642187.0\n",
       "77176                            GABY             635251.0\n",
       "201588                           ROSY             607890.0\n",
       "147100                    LA CHIQUITA             587587.0\n",
       "225905                 LA PROVIDENCIA             583041.0\n",
       "75648                            DANY             573405.0\n",
       "247212                      HERNANDEZ             555898.0\n",
       "177295                         GARCIA             529954.0\n",
       "184884                       MARTINEZ             523666.0\n",
       "52879                     LA ESTRELLA             520624.0\n",
       "13555                        SAN JOSE             501465.0\n",
       "200001               JALISCO REMISION             490617.0\n",
       "225884                   LA ESCONDIDA             490114.0\n",
       "207668                     LA ESQUINA             486080.0\n",
       "59006                           DIANA             476377.0"
      ]
     },
     "execution_count": 44,
     "metadata": {},
     "output_type": "execute_result"
    }
   ],
   "source": [
    "customer_grouped_pandas = customer_grouped_pandas.sort_values(by='sum(sale_uni_today)', ascending=0)\n",
    "customer_grouped_pandas.head(25)"
   ]
  },
  {
   "cell_type": "code",
   "execution_count": 48,
   "metadata": {
    "collapsed": false
   },
   "outputs": [
    {
     "data": {
      "text/plain": [
       "[<matplotlib.text.Text at 0x7fd894bef6a0>]"
      ]
     },
     "execution_count": 48,
     "metadata": {},
     "output_type": "execute_result"
    },
    {
     "data": {
      "image/png": "[encoded data removed]",
      "text/plain": [
       "<matplotlib.figure.Figure at 0x7fd89a4251d0>"
      ]
     },
     "metadata": {},
     "output_type": "display_data"
    }
   ],
   "source": [
    "sns.plt.title('Bar plot sum by sale_uni_today by customer')\n",
    "plot = sns.barplot(x='sum(sale_uni_today)', y='customer_name', data=customer_grouped_pandas.head(25))\n",
    "plot.set(xlabel='sale unitary today')\n",
    "plot.set(ylabel='Acum sale unitary today')"
   ]
  }
 ],
 "metadata": {
  "kernelspec": {
   "display_name": "Python 3",
   "language": "python",
   "name": "python3"
  },
  "language_info": {
   "codemirror_mode": {
    "name": "ipython",
    "version": 3
   },
   "file_extension": ".py",
   "mimetype": "text/x-python",
   "name": "python",
   "nbconvert_exporter": "python",
   "pygments_lexer": "ipython3",
   "version": "3.5.1"
  }
 },
 "nbformat": 4,
 "nbformat_minor": 0
}
